{
 "cells": [
  {
   "cell_type": "markdown",
   "metadata": {},
   "source": [
    "# Exercise"
   ]
  },
  {
   "cell_type": "markdown",
   "metadata": {},
   "source": [
    "## Exercise 7-1"
   ]
  },
  {
   "cell_type": "markdown",
   "metadata": {},
   "source": [
    "Rewrite the following function ```printn``` using iteration instead of recursion.\n",
    "\n",
    "```julia\n",
    "function printn(s, n)\n",
    "    if n <= 0\n",
    "        return\n",
    "    end\n",
    "    println(s)\n",
    "    printn(s, n-1)\n",
    "end\n",
    "```"
   ]
  },
  {
   "cell_type": "code",
   "execution_count": 1,
   "metadata": {},
   "outputs": [
    {
     "data": {
      "text/plain": [
       "printn (generic function with 1 method)"
      ]
     },
     "execution_count": 1,
     "metadata": {},
     "output_type": "execute_result"
    }
   ],
   "source": [
    "function printn(s, n)\n",
    "    while n > 0\n",
    "        println(s)\n",
    "        n = n -1\n",
    "    end\n",
    "end"
   ]
  },
  {
   "cell_type": "code",
   "execution_count": 3,
   "metadata": {},
   "outputs": [
    {
     "name": "stdout",
     "output_type": "stream",
     "text": [
      "Repeat\n",
      "Repeat\n",
      "Repeat\n",
      "Repeat\n",
      "Repeat\n",
      "Repeat\n",
      "Repeat\n",
      "Repeat\n",
      "Repeat\n",
      "Repeat\n"
     ]
    }
   ],
   "source": [
    "printn(\"Repeat\", 10)"
   ]
  },
  {
   "cell_type": "markdown",
   "metadata": {},
   "source": [
    "## Exercise 7-2"
   ]
  },
  {
   "cell_type": "markdown",
   "metadata": {},
   "source": [
    "```julia\n",
    "while true\n",
    "    println(x)\n",
    "    y = (x + a/x) / 2\n",
    "    if y == x\n",
    "        break\n",
    "    end\n",
    "    x = y\n",
    "end\n",
    "```\n",
    "       \n",
    "Copy the above loop and encapsulate it in a function called ```mysqrt``` that takes ```a``` as a parameter, chooses a reasonable value of ```x```, and returns an\n",
    "estimate of the square root of ```a```."
   ]
  },
  {
   "cell_type": "code",
   "execution_count": 1,
   "metadata": {},
   "outputs": [
    {
     "data": {
      "text/plain": [
       "mysqrt (generic function with 1 method)"
      ]
     },
     "execution_count": 1,
     "metadata": {},
     "output_type": "execute_result"
    }
   ],
   "source": [
    "function mysqrt(a)\n",
    "    x = a / 2\n",
    "    while true\n",
    "        y = (x + a/x) / 2\n",
    "        if y == x\n",
    "            break\n",
    "        end\n",
    "        x = y\n",
    "    end\n",
    "    return x\n",
    "end"
   ]
  },
  {
   "cell_type": "markdown",
   "metadata": {},
   "source": [
    "To test it, write a function named ```testsquareroot``` that prints a table like this:\n",
    "\n",
    "```\n",
    "a   mysqrt             sqrt               diff\n",
    "-   ------             ----               ----\n",
    "1.0 1.0                1.0                0.0\n",
    "2.0 1.414213562373095  1.4142135623730951 2.220446049250313e-16\n",
    "3.0 1.7320508075688772 1.7320508075688772 0.0\n",
    "4.0 2.0                2.0                0.0\n",
    "5.0 2.23606797749979   2.23606797749979   0.0\n",
    "6.0 2.449489742783178  2.449489742783178  0.0\n",
    "7.0 2.6457513110645907 2.6457513110645907 0.0\n",
    "8.0 2.82842712474619   2.8284271247461903 4.440892098500626e-16\n",
    "9.0 3.0                3.0                0.0\n",
    "```\n",
    "\n",
    "The first column is a number, ```a```; the second column is the square root of ```a``` computed with ```mysqrt```; the third column is the square root computed by ```sqrt```; and the fourth column is the absolute value of the difference between the two estimates."
   ]
  },
  {
   "cell_type": "code",
   "execution_count": 19,
   "metadata": {},
   "outputs": [
    {
     "name": "stdout",
     "output_type": "stream",
     "text": [
      "a   mysqrt             sqrt               diff\n",
      "-   ------             ----               ----\n",
      "1.0 1.0                1.0                0.0\n",
      "2.0 1.414213562373095  1.4142135623730951 2.220446049250313e-16\n",
      "3.0 1.7320508075688772 1.7320508075688772 0.0\n",
      "4.0 2.0                2.0                0.0\n",
      "5.0 2.23606797749979   2.23606797749979   0.0\n",
      "6.0 2.449489742783178  2.449489742783178  0.0\n",
      "7.0 2.6457513110645907 2.6457513110645907 0.0\n",
      "8.0 2.82842712474619   2.8284271247461903 4.440892098500626e-16\n",
      "9.0 3.0                3.0                0.0\n"
     ]
    }
   ],
   "source": [
    "println(\"a\", \" \"^3, \"mysqrt\", \" \"^13, \"sqrt\", \" \"^15, \"diff\")\n",
    "println(\"-\", \" \"^3, \"------\", \" \"^13, \"----\", \" \"^15, \"----\")\n",
    "for a in 1:9\n",
    "    space1 = 1\n",
    "    space2 = 19 - length(string(mysqrt(a)))\n",
    "    space3 = 19 - length(string(sqrt(a)))\n",
    "    print(float(a), \" \"^space1)\n",
    "    print(mysqrt(a), \" \"^space2)\n",
    "    print(sqrt(a), \" \"^space3)\n",
    "    println(abs(mysqrt(a) - sqrt(a)))\n",
    "end"
   ]
  },
  {
   "cell_type": "markdown",
   "metadata": {},
   "source": [
    "## Exercise 7-3"
   ]
  },
  {
   "cell_type": "markdown",
   "metadata": {},
   "source": [
    "**The built-in function ```Meta.parse``` takes a string and transforms it into an expression.** This expression can be evaluated in Julia with the function ```Core.eval```. For example:\n",
    "\n",
    "```julia\n",
    "julia> expr = Meta.parse(\"1+2*3\")\n",
    ":(1 + 2 * 3)\n",
    "julia> eval(expr)\n",
    "6\n",
    "julia> expr = Meta.parse(\"sqrt(π)\")\n",
    ":(sqrt(π))\n",
    "julia> eval(expr)\n",
    "1.7724538509055159\n",
    "```\n",
    "\n",
    "Write a function called ```evalloop``` that iteratively prompts the user, takes the resulting\n",
    "input and evaluates it using ```eval```, and prints the result. It should continue until the\n",
    "user enters ```done```, and then return the value of the last expression it evaluated."
   ]
  },
  {
   "cell_type": "code",
   "execution_count": 1,
   "metadata": {},
   "outputs": [
    {
     "data": {
      "text/plain": [
       "evalloop (generic function with 1 method)"
      ]
     },
     "execution_count": 1,
     "metadata": {},
     "output_type": "execute_result"
    }
   ],
   "source": [
    "function evalloop()\n",
    "    result = nothing # initialize result\n",
    "    while true\n",
    "        println(\"Input an expression\")\n",
    "        input = readline()\n",
    "        if input == \"done\"\n",
    "            break\n",
    "        end\n",
    "        expr = Meta.parse(input)\n",
    "        result = eval(expr)\n",
    "        println(result)\n",
    "    end\n",
    "    return result\n",
    "end     "
   ]
  },
  {
   "cell_type": "code",
   "execution_count": 3,
   "metadata": {},
   "outputs": [
    {
     "name": "stdout",
     "output_type": "stream",
     "text": [
      "Input an expression\n",
      "stdin> 1+2+3\n",
      "6\n",
      "Input an expression\n",
      "stdin> sqrt(4)\n",
      "2.0\n",
      "Input an expression\n",
      "stdin> done\n"
     ]
    },
    {
     "data": {
      "text/plain": [
       "2.0"
      ]
     },
     "execution_count": 3,
     "metadata": {},
     "output_type": "execute_result"
    }
   ],
   "source": [
    "evalloop()"
   ]
  },
  {
   "cell_type": "markdown",
   "metadata": {},
   "source": [
    "## Exercise 7-4"
   ]
  },
  {
   "cell_type": "markdown",
   "metadata": {},
   "source": [
    "The mathematician Srinivasa Ramanujan found an infinite series that can be used to generate a numerical approximation of $\\frac{1}{\\pi}$:\n",
    "\n",
    "$$\\frac{1}{\\pi} = \\frac{2\\sqrt{2}}{9801} \\sum\\limits_{k = 0}^\\infty \\frac{(4k)!(1103 + 26390k)}{(k!)^4 396^{4k}}$$\n",
    "\n",
    "Write a function called ```estimatepi``` that uses this formula to compute and return an estimate of $\\pi$. It should use a ```while``` loop to compute terms of the summation until the last term is smaller than ```1e-15``` (which is Julia notation for $10^{−15}$). You can check the result by comparing it to $\\pi$."
   ]
  },
  {
   "cell_type": "code",
   "execution_count": 1,
   "metadata": {},
   "outputs": [
    {
     "data": {
      "text/plain": [
       "estimatepi (generic function with 2 methods)"
      ]
     },
     "execution_count": 1,
     "metadata": {},
     "output_type": "execute_result"
    }
   ],
   "source": [
    "function estimatepi(ε=1e-15)\n",
    "    summation = 0\n",
    "    k = 0\n",
    "    while true\n",
    "        new_term = factorial(4k) * (1103 + 26390k) / ((factorial(k))^4 * 396^(4k))\n",
    "        summation = summation + new_term\n",
    "        if new_term < ε\n",
    "            break\n",
    "        end\n",
    "        k = k + 1\n",
    "    end\n",
    "    estimate = 9801 / (2*sqrt(2) * summation)\n",
    "    return estimate\n",
    "end"
   ]
  },
  {
   "cell_type": "code",
   "execution_count": 2,
   "metadata": {},
   "outputs": [
    {
     "data": {
      "text/plain": [
       "3.1415926535904917"
      ]
     },
     "execution_count": 2,
     "metadata": {},
     "output_type": "execute_result"
    }
   ],
   "source": [
    "estimatepi()"
   ]
  },
  {
   "cell_type": "code",
   "execution_count": 4,
   "metadata": {},
   "outputs": [
    {
     "name": "stdout",
     "output_type": "stream",
     "text": [
      "6.985523270941485e-13\n"
     ]
    }
   ],
   "source": [
    "println(abs(estimatepi() - π))"
   ]
  },
  {
   "cell_type": "code",
   "execution_count": null,
   "metadata": {},
   "outputs": [],
   "source": []
  }
 ],
 "metadata": {
  "kernelspec": {
   "display_name": "Julia 1.5.2",
   "language": "julia",
   "name": "julia-1.5"
  },
  "language_info": {
   "file_extension": ".jl",
   "mimetype": "application/julia",
   "name": "julia",
   "version": "1.5.2"
  }
 },
 "nbformat": 4,
 "nbformat_minor": 4
}
