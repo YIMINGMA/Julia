{
 "cells": [
  {
   "cell_type": "markdown",
   "metadata": {},
   "source": [
    "# Exercise"
   ]
  },
  {
   "cell_type": "markdown",
   "metadata": {},
   "source": [
    "## Exercise 11-1"
   ]
  },
  {
   "cell_type": "markdown",
   "metadata": {},
   "source": [
    "Use ```get``` to write ```histogram``` more concisely. You should be able to eliminate the ```if``` statement.\n",
    "\n",
    "```julia\n",
    "function histogram(s)\n",
    "    d = Dict()\n",
    "    for c in s\n",
    "        if c ∉ keys(d)\n",
    "            d[c] = 1\n",
    "        else\n",
    "            d[c] += 1\n",
    "        end\n",
    "    end\n",
    "    d\n",
    "end \n",
    "```\n",
    "\n",
    "```julia\n",
    "julia > h = histogram(\"brontosaurus\")\n",
    "Dict{Any, Any} with 8 entries:\n",
    "  'n' => 1\n",
    "  's' => 2\n",
    "  'a' => 1\n",
    "  'r' => 2\n",
    "  't' => 1\n",
    "  'o' => 2\n",
    "  'u' => 2\n",
    "  'b' => 1\n",
    "```"
   ]
  },
  {
   "cell_type": "code",
   "execution_count": 1,
   "metadata": {},
   "outputs": [
    {
     "data": {
      "text/plain": [
       "histogram (generic function with 1 method)"
      ]
     },
     "execution_count": 1,
     "metadata": {},
     "output_type": "execute_result"
    }
   ],
   "source": [
    "function histogram(s)\n",
    "    d = Dict()\n",
    "    for c in s\n",
    "        d[c] = get(d, c, 0) + 1\n",
    "    end\n",
    "    d\n",
    "end"
   ]
  },
  {
   "cell_type": "code",
   "execution_count": 2,
   "metadata": {},
   "outputs": [
    {
     "name": "stdout",
     "output_type": "stream",
     "text": [
      "Dict{Any,Any}('n' => 1,'s' => 2,'a' => 1,'r' => 2,'t' => 1,'o' => 2,'u' => 2,'b' => 1)\n"
     ]
    }
   ],
   "source": [
    "h = histogram(\"brontosaurus\")\n",
    "println(h)"
   ]
  },
  {
   "cell_type": "markdown",
   "metadata": {},
   "source": [
    "## Exercise 11-2"
   ]
  },
  {
   "cell_type": "markdown",
   "metadata": {},
   "source": [
    "Write a function that reads the words in ```words.txt``` and stores them as keys in a dictionary. It doesn't matter what the values are. Then you can use the ```∈``` operator as a fast way to check whether a string is in the dictionary.\n",
    "\n",
    "If you did \"Exercise 10-10\" on page 125, you can compare the speed of this implementation with the array ```∈``` operator and the bisection search."
   ]
  },
  {
   "cell_type": "code",
   "execution_count": 3,
   "metadata": {},
   "outputs": [
    {
     "name": "stdout",
     "output_type": "stream",
     "text": [
      "Input a string: \n",
      "stdin> test\n"
     ]
    },
    {
     "data": {
      "text/plain": [
       "\"test\""
      ]
     },
     "execution_count": 3,
     "metadata": {},
     "output_type": "execute_result"
    }
   ],
   "source": [
    "cd(\"/home/yiming/Desktop/Codes/Think-Julia-How-to-Think-Like-A-Computer-Scientist/Data/\")\n",
    "println(\"Input a string: \")\n",
    "str= readline()"
   ]
  },
  {
   "cell_type": "code",
   "execution_count": 4,
   "metadata": {},
   "outputs": [
    {
     "name": "stdout",
     "output_type": "stream",
     "text": [
      "Using a dictionary.\n",
      "It's in the dictionary.\n",
      "  0.048203 seconds (349.50 k allocations: 12.981 MiB)\n"
     ]
    }
   ],
   "source": [
    "println(\"Using a dictionary.\")\n",
    "@time begin\n",
    "    dictionary = Dict()\n",
    "\n",
    "    for line in eachline(\"words.txt\")\n",
    "        dictionary[line] = get(dictionary, line, 0) + 1\n",
    "    end\n",
    "\n",
    "    if str ∈ keys(dictionary)\n",
    "        println(\"It's in the dictionary.\")\n",
    "    else\n",
    "        println(\"It's not in the dictionary.\")\n",
    "    end\n",
    "end"
   ]
  },
  {
   "cell_type": "code",
   "execution_count": 5,
   "metadata": {},
   "outputs": [
    {
     "data": {
      "text/plain": [
       "inbisect (generic function with 1 method)"
      ]
     },
     "execution_count": 5,
     "metadata": {},
     "output_type": "execute_result"
    }
   ],
   "source": [
    "function inbisect(array, target)\n",
    "    len = length(array)\n",
    "    if len == 0\n",
    "        return false\n",
    "    else\n",
    "        if (len+1) % 2 == 0\n",
    "            middle_idx = Int((len+1) / 2)\n",
    "            middle = array[middle_idx]\n",
    "            if target < middle\n",
    "                inbisect(array[begin:(middle_idx-1)], target)\n",
    "            elseif target == middle\n",
    "                return true\n",
    "            else\n",
    "                inbisect(array[(middle_idx+1):end], target)\n",
    "            end\n",
    "        else\n",
    "            middle_l_idx = Int(floor((len+1) / 2))\n",
    "            middle_l = array[middle_l_idx]\n",
    "            middle_r_idx = Int(ceil((len+1) / 2))\n",
    "            middle_r = array[middle_r_idx]\n",
    "            if target < middle_l\n",
    "                inbisect(array[begin: (middle_l_idx - 1)], target)\n",
    "            elseif target == middle_l || target == middle_r\n",
    "                return true\n",
    "            else\n",
    "                inbisect(array[(middle_r_idx + 1): end], target)\n",
    "            end\n",
    "        end\n",
    "    end\n",
    "end"
   ]
  },
  {
   "cell_type": "code",
   "execution_count": 6,
   "metadata": {},
   "outputs": [
    {
     "name": "stdout",
     "output_type": "stream",
     "text": [
      "Using a bisection search\n",
      "It's in the file.\n",
      "  0.535236 seconds (1.32 M allocations: 59.819 MiB, 4.24% gc time)\n"
     ]
    }
   ],
   "source": [
    "using DelimitedFiles\n",
    "println(\"Using a bisection search\")\n",
    "\n",
    "@time begin\n",
    "    words_array1 = readdlm(\"words.txt\")\n",
    "    if inbisect(words_array1, str)\n",
    "        println(\"It's in the file.\")\n",
    "    else\n",
    "        println(\"It's not in the file.\")\n",
    "    end\n",
    "end"
   ]
  },
  {
   "cell_type": "code",
   "execution_count": 7,
   "metadata": {},
   "outputs": [
    {
     "name": "stdout",
     "output_type": "stream",
     "text": [
      "Using the ∈ operator\n",
      "It's in file.\n",
      "  0.093780 seconds (666.83 k allocations: 27.129 MiB, 57.90% gc time)\n"
     ]
    }
   ],
   "source": [
    "println(\"Using the ∈ operator\")\n",
    "\n",
    "@time begin\n",
    "    words_array2 = readdlm(\"words.txt\")\n",
    "    if str in words_array2\n",
    "        println(\"It's in file.\")\n",
    "    else\n",
    "        println(\"It's not intthe file.\")\n",
    "    end\n",
    "end"
   ]
  },
  {
   "cell_type": "markdown",
   "metadata": {},
   "source": [
    "## Exercise 11-3"
   ]
  },
  {
   "cell_type": "markdown",
   "metadata": {},
   "source": [
    "Read the documentation of the dictionary function ```get!``` and use it to write a more concise version of ```invertdict```."
   ]
  },
  {
   "cell_type": "code",
   "execution_count": 8,
   "metadata": {},
   "outputs": [
    {
     "name": "stdout",
     "output_type": "stream",
     "text": [
      "search: \u001b[0m\u001b[1mg\u001b[22m\u001b[0m\u001b[1me\u001b[22m\u001b[0m\u001b[1mt\u001b[22m\u001b[0m\u001b[1m!\u001b[22m mer\u001b[0m\u001b[1mg\u001b[22m\u001b[0m\u001b[1me\u001b[22mwi\u001b[0m\u001b[1mt\u001b[22mh\u001b[0m\u001b[1m!\u001b[22m \u001b[0m\u001b[1mg\u001b[22m\u001b[0m\u001b[1me\u001b[22m\u001b[0m\u001b[1mt\u001b[22m \u001b[0m\u001b[1mg\u001b[22m\u001b[0m\u001b[1me\u001b[22m\u001b[0m\u001b[1mt\u001b[22mpid \u001b[0m\u001b[1mg\u001b[22m\u001b[0m\u001b[1me\u001b[22m\u001b[0m\u001b[1mt\u001b[22mkey \u001b[0m\u001b[1mg\u001b[22m\u001b[0m\u001b[1me\u001b[22m\u001b[0m\u001b[1mt\u001b[22mfield \u001b[0m\u001b[1mg\u001b[22m\u001b[0m\u001b[1me\u001b[22m\u001b[0m\u001b[1mt\u001b[22mindex \u001b[0m\u001b[1mg\u001b[22m\u001b[0m\u001b[1me\u001b[22m\u001b[0m\u001b[1mt\u001b[22mproperty\n",
      "\n"
     ]
    },
    {
     "data": {
      "text/latex": [
       "\\begin{verbatim}\n",
       "get!(collection, key, default)\n",
       "\\end{verbatim}\n",
       "Return the value stored for the given key, or if no mapping for the key is present, store \\texttt{key => default}, and return \\texttt{default}.\n",
       "\n",
       "\\section{Examples}\n",
       "\\begin{verbatim}\n",
       "julia> d = Dict(\"a\"=>1, \"b\"=>2, \"c\"=>3);\n",
       "\n",
       "julia> get!(d, \"a\", 5)\n",
       "1\n",
       "\n",
       "julia> get!(d, \"d\", 4)\n",
       "4\n",
       "\n",
       "julia> d\n",
       "Dict{String,Int64} with 4 entries:\n",
       "  \"c\" => 3\n",
       "  \"b\" => 2\n",
       "  \"a\" => 1\n",
       "  \"d\" => 4\n",
       "\\end{verbatim}\n",
       "\\rule{\\textwidth}{1pt}\n",
       "\\begin{verbatim}\n",
       "get!(f::Function, collection, key)\n",
       "\\end{verbatim}\n",
       "Return the value stored for the given key, or if no mapping for the key is present, store \\texttt{key => f()}, and return \\texttt{f()}.\n",
       "\n",
       "This is intended to be called using \\texttt{do} block syntax:\n",
       "\n",
       "\\begin{verbatim}\n",
       "get!(dict, key) do\n",
       "    # default value calculated here\n",
       "    time()\n",
       "end\n",
       "\\end{verbatim}\n"
      ],
      "text/markdown": [
       "```\n",
       "get!(collection, key, default)\n",
       "```\n",
       "\n",
       "Return the value stored for the given key, or if no mapping for the key is present, store `key => default`, and return `default`.\n",
       "\n",
       "# Examples\n",
       "\n",
       "```jldoctest\n",
       "julia> d = Dict(\"a\"=>1, \"b\"=>2, \"c\"=>3);\n",
       "\n",
       "julia> get!(d, \"a\", 5)\n",
       "1\n",
       "\n",
       "julia> get!(d, \"d\", 4)\n",
       "4\n",
       "\n",
       "julia> d\n",
       "Dict{String,Int64} with 4 entries:\n",
       "  \"c\" => 3\n",
       "  \"b\" => 2\n",
       "  \"a\" => 1\n",
       "  \"d\" => 4\n",
       "```\n",
       "\n",
       "---\n",
       "\n",
       "```\n",
       "get!(f::Function, collection, key)\n",
       "```\n",
       "\n",
       "Return the value stored for the given key, or if no mapping for the key is present, store `key => f()`, and return `f()`.\n",
       "\n",
       "This is intended to be called using `do` block syntax:\n",
       "\n",
       "```julia\n",
       "get!(dict, key) do\n",
       "    # default value calculated here\n",
       "    time()\n",
       "end\n",
       "```\n"
      ],
      "text/plain": [
       "\u001b[36m  get!(collection, key, default)\u001b[39m\n",
       "\n",
       "  Return the value stored for the given key, or if no mapping for the key is\n",
       "  present, store \u001b[36mkey => default\u001b[39m, and return \u001b[36mdefault\u001b[39m.\n",
       "\n",
       "\u001b[1m  Examples\u001b[22m\n",
       "\u001b[1m  ≡≡≡≡≡≡≡≡≡≡\u001b[22m\n",
       "\n",
       "\u001b[36m  julia> d = Dict(\"a\"=>1, \"b\"=>2, \"c\"=>3);\u001b[39m\n",
       "\u001b[36m  \u001b[39m\n",
       "\u001b[36m  julia> get!(d, \"a\", 5)\u001b[39m\n",
       "\u001b[36m  1\u001b[39m\n",
       "\u001b[36m  \u001b[39m\n",
       "\u001b[36m  julia> get!(d, \"d\", 4)\u001b[39m\n",
       "\u001b[36m  4\u001b[39m\n",
       "\u001b[36m  \u001b[39m\n",
       "\u001b[36m  julia> d\u001b[39m\n",
       "\u001b[36m  Dict{String,Int64} with 4 entries:\u001b[39m\n",
       "\u001b[36m    \"c\" => 3\u001b[39m\n",
       "\u001b[36m    \"b\" => 2\u001b[39m\n",
       "\u001b[36m    \"a\" => 1\u001b[39m\n",
       "\u001b[36m    \"d\" => 4\u001b[39m\n",
       "\n",
       "  ────────────────────────────────────────────────────────────────────────────\n",
       "\n",
       "\u001b[36m  get!(f::Function, collection, key)\u001b[39m\n",
       "\n",
       "  Return the value stored for the given key, or if no mapping for the key is\n",
       "  present, store \u001b[36mkey => f()\u001b[39m, and return \u001b[36mf()\u001b[39m.\n",
       "\n",
       "  This is intended to be called using \u001b[36mdo\u001b[39m block syntax:\n",
       "\n",
       "\u001b[36m  get!(dict, key) do\u001b[39m\n",
       "\u001b[36m      # default value calculated here\u001b[39m\n",
       "\u001b[36m      time()\u001b[39m\n",
       "\u001b[36m  end\u001b[39m"
      ]
     },
     "execution_count": 8,
     "metadata": {},
     "output_type": "execute_result"
    }
   ],
   "source": [
    "?get!"
   ]
  },
  {
   "cell_type": "code",
   "execution_count": 9,
   "metadata": {},
   "outputs": [
    {
     "data": {
      "text/plain": [
       "invertdict (generic function with 1 method)"
      ]
     },
     "execution_count": 9,
     "metadata": {},
     "output_type": "execute_result"
    }
   ],
   "source": [
    "function invertdict(dict)\n",
    "    inverse = Dict()\n",
    "    for key in keys(dict)\n",
    "        val = dict[key]\n",
    "        push!(get!(inverse, val, []), key)\n",
    "    end\n",
    "    return inverse\n",
    "end"
   ]
  },
  {
   "cell_type": "code",
   "execution_count": 10,
   "metadata": {},
   "outputs": [
    {
     "name": "stdout",
     "output_type": "stream",
     "text": [
      "0\n"
     ]
    }
   ],
   "source": [
    "println(get(invertdict(dictionary), 2, 0))"
   ]
  },
  {
   "cell_type": "markdown",
   "metadata": {},
   "source": [
    "## Exercise 11-4"
   ]
  },
  {
   "cell_type": "markdown",
   "metadata": {},
   "source": [
    "Memoize the ```Ackermann function``` from \"Exercise 6-5\" on page 75 and see if memoization makes it possible to evaluate the function with bigger arguments.\n",
    "\n",
    "```julia\n",
    "function ark(m, n)\n",
    "    if m == 0\n",
    "        return (n+1)\n",
    "    elseif m > 0 && n == 0\n",
    "        return ark(m-1, 1)\n",
    "    elseif m > 0 && n > 0\n",
    "        return ark(m-1, ark(m, n-1))\n",
    "    else\n",
    "        error(\"Bad inputs!\")\n",
    "    end\n",
    "end\n",
    "```"
   ]
  },
  {
   "cell_type": "code",
   "execution_count": 11,
   "metadata": {},
   "outputs": [
    {
     "data": {
      "text/plain": [
       "ark1 (generic function with 1 method)"
      ]
     },
     "execution_count": 11,
     "metadata": {},
     "output_type": "execute_result"
    }
   ],
   "source": [
    "function ark1(m, n)\n",
    "    if m == 0\n",
    "        return (n+1)\n",
    "    elseif m > 0 && n == 0\n",
    "        return ark1(m-1, 1)\n",
    "    elseif m > 0 && n > 0\n",
    "        return ark1(m-1, ark1(m, n-1))\n",
    "    else\n",
    "        error(\"Bad inputs!\")\n",
    "    end\n",
    "end"
   ]
  },
  {
   "cell_type": "code",
   "execution_count": 12,
   "metadata": {},
   "outputs": [
    {
     "data": {
      "text/plain": [
       "ark2 (generic function with 1 method)"
      ]
     },
     "execution_count": 12,
     "metadata": {},
     "output_type": "execute_result"
    }
   ],
   "source": [
    "d = Dict()\n",
    "\n",
    "function ark2(m, n)\n",
    "    if (m, n) ∈ keys(d)\n",
    "        return d[(m, n)]\n",
    "    elseif m == 0\n",
    "        result = n+1\n",
    "        d[(m, n)] = result\n",
    "        return d[(m, n)]\n",
    "    elseif m > 0 && n == 0\n",
    "        result = ark2(m-1, 1)\n",
    "        d[(m, n)] = result\n",
    "        return result\n",
    "    else\n",
    "        result = ark2(m-1, ark2(m, n-1))\n",
    "        d[(m, n)] = result\n",
    "        return result\n",
    "    end\n",
    "end"
   ]
  },
  {
   "cell_type": "code",
   "execution_count": 13,
   "metadata": {
    "scrolled": true
   },
   "outputs": [
    {
     "name": "stdout",
     "output_type": "stream",
     "text": [
      "  0.000033 seconds\n"
     ]
    },
    {
     "data": {
      "text/plain": [
       "125"
      ]
     },
     "execution_count": 13,
     "metadata": {},
     "output_type": "execute_result"
    }
   ],
   "source": [
    "@time ark1(3,4)"
   ]
  },
  {
   "cell_type": "code",
   "execution_count": 14,
   "metadata": {},
   "outputs": [
    {
     "name": "stdout",
     "output_type": "stream",
     "text": [
      "  0.056493 seconds (84.49 k allocations: 4.202 MiB, 11.25% gc time)\n"
     ]
    },
    {
     "data": {
      "text/plain": [
       "125"
      ]
     },
     "execution_count": 14,
     "metadata": {},
     "output_type": "execute_result"
    }
   ],
   "source": [
    "@time ark2(3,4)"
   ]
  },
  {
   "cell_type": "code",
   "execution_count": 15,
   "metadata": {},
   "outputs": [
    {
     "ename": "LoadError",
     "evalue": "StackOverflowError:",
     "output_type": "error",
     "traceback": [
      "StackOverflowError:",
      "",
      "Stacktrace:",
      " [1] ark1(::Int64, ::Int64) at ./In[11]:5",
      " [2] ark1(::Int64, ::Int64) at ./In[11]:7 (repeats 79983 times)"
     ]
    }
   ],
   "source": [
    "@time ark1(4,3)"
   ]
  },
  {
   "cell_type": "code",
   "execution_count": 16,
   "metadata": {},
   "outputs": [
    {
     "ename": "LoadError",
     "evalue": "StackOverflowError:",
     "output_type": "error",
     "traceback": [
      "StackOverflowError:",
      "",
      "Stacktrace:",
      " [1] ht_keyindex(::Dict{Any,Any}, ::Tuple{Int64,Int64}) at ./dict.jl:289",
      " [2] in(::Tuple{Int64,Int64}, ::Base.KeySet{Any,Dict{Any,Any}}) at ./dict.jl:536",
      " [3] ark2(::Int64, ::Int64) at ./In[12]:4",
      " [4] ark2(::Int64, ::Int64) at ./In[12]:15 (repeats 21649 times)",
      " [5] top-level scope at ./timing.jl:174 [inlined]",
      " [6] top-level scope at ./In[16]:0",
      " [7] execute_code(::String, ::String) at /home/yiming/.julia/packages/IJulia/rWZ9e/src/execute_request.jl:27",
      " [8] execute_request(::ZMQ.Socket, ::IJulia.Msg) at /home/yiming/.julia/packages/IJulia/rWZ9e/src/execute_request.jl:86",
      " [9] #invokelatest#1 at ./essentials.jl:710 [inlined]",
      " [10] invokelatest at ./essentials.jl:709 [inlined]",
      " [11] eventloop(::ZMQ.Socket) at /home/yiming/.julia/packages/IJulia/rWZ9e/src/eventloop.jl:8",
      " [12] (::IJulia.var\"#15#18\")() at ./task.jl:356"
     ]
    }
   ],
   "source": [
    "@time ark2(4,3)"
   ]
  },
  {
   "cell_type": "markdown",
   "metadata": {},
   "source": [
    "## Exercise 11-5"
   ]
  },
  {
   "cell_type": "markdown",
   "metadata": {},
   "source": [
    "If you did \"Exercise 10-7\" on page 125, you already have a function named ```hasduplicates``` that takes an array as a parameter and returns true if there is any object that appears more than once in the array. \n",
    "\n",
    "Use a dictionary to write a faster, simpler version of ```hasduplicates```.\n",
    "\n",
    "```julia\n",
    "function hasduplicates(array)\n",
    "    record = []\n",
    "    for ele in array\n",
    "        if ele ∉ record\n",
    "            push!(record, ele)\n",
    "        else\n",
    "            return true\n",
    "        end\n",
    "    end\n",
    "    return false\n",
    "end\n",
    "```"
   ]
  },
  {
   "cell_type": "code",
   "execution_count": 17,
   "metadata": {},
   "outputs": [
    {
     "data": {
      "text/plain": [
       "hasduplicate (generic function with 1 method)"
      ]
     },
     "execution_count": 17,
     "metadata": {},
     "output_type": "execute_result"
    }
   ],
   "source": [
    "function hasduplicate(array)\n",
    "    d = Dict()\n",
    "    duplicates = false\n",
    "    for ele in array\n",
    "        if get(d, ele, false)\n",
    "            duplicates = true\n",
    "            break\n",
    "        else\n",
    "            d[ele] = true\n",
    "        end\n",
    "    end\n",
    "    return duplicates\n",
    "end            "
   ]
  },
  {
   "cell_type": "code",
   "execution_count": 18,
   "metadata": {},
   "outputs": [
    {
     "data": {
      "text/plain": [
       "true"
      ]
     },
     "execution_count": 18,
     "metadata": {},
     "output_type": "execute_result"
    }
   ],
   "source": [
    "hasduplicate([1,1,2,2])"
   ]
  },
  {
   "cell_type": "code",
   "execution_count": 19,
   "metadata": {},
   "outputs": [
    {
     "data": {
      "text/plain": [
       "false"
      ]
     },
     "execution_count": 19,
     "metadata": {},
     "output_type": "execute_result"
    }
   ],
   "source": [
    "hasduplicate([1,2,3])"
   ]
  },
  {
   "cell_type": "markdown",
   "metadata": {},
   "source": [
    "## Exercise 11-6"
   ]
  },
  {
   "cell_type": "markdown",
   "metadata": {},
   "source": [
    "Two words are \"rotate pairs\" if you can rotate one of them and get the other (see ```rotateword``` in \"Exercise 8-11\" on page 99).\n",
    "\n",
    "Write a program that reads a word array and finds all the rotate pairs."
   ]
  },
  {
   "cell_type": "code",
   "execution_count": 20,
   "metadata": {},
   "outputs": [
    {
     "name": "stdout",
     "output_type": "stream",
     "text": [
      "Any[\"fang\", \"jerk\"]\n",
      "Any[\"hin\", \"not\", \"sty\"]\n",
      "Any[\"god\", \"owl\"]\n",
      "Any[\"fen\", \"pox\"]\n",
      "Any[\"fon\", \"pyx\"]\n",
      "Any[\"gale\", \"kepi\"]\n",
      "Any[\"nee\", \"off\"]\n",
      "Any[\"hid\", \"tup\"]\n",
      "Any[\"dom\", \"jus\"]\n",
      "Any[\"crop\", \"furs\"]\n",
      "Any[\"aril\", \"hyps\"]\n",
      "Any[\"haj\", \"vox\"]\n",
      "Any[\"for\", \"lux\"]\n",
      "Any[\"drip\", \"guls\"]\n",
      "Any[\"elm\", \"hop\"]\n",
      "Any[\"bod\", \"erg\"]\n",
      "Any[\"dols\", \"jury\"]\n",
      "Any[\"cede\", \"mono\"]\n",
      "Any[\"lion\", \"rout\"]\n",
      "Any[\"beer\", \"illy\"]\n",
      "Any[\"ani\", \"hup\"]\n",
      "Any[\"pecan\", \"tiger\"]\n",
      "Any[\"col\", \"fro\"]\n",
      "Any[\"an\", \"bo\", \"er\"]\n",
      "Any[\"colt\", \"frow\"]\n",
      "Any[\"bomb\", \"hush\"]\n",
      "Any[\"pep\", \"tit\"]\n",
      "Any[\"link\", \"spur\"]\n",
      "Any[\"salp\", \"wept\"]\n",
      "Any[\"cord\", \"frug\"]\n",
      "Any[\"mold\", \"prog\"]\n",
      "Any[\"slag\", \"unci\"]\n",
      "Any[\"hah\", \"oho\", \"pip\"]\n",
      "Any[\"pepo\", \"tits\"]\n",
      "Any[\"boff\", \"hull\"]\n",
      "Any[\"ad\", \"be\", \"eh\", \"lo\", \"or\"]\n",
      "Any[\"ache\", \"gink\"]\n",
      "Any[\"fadge\", \"torus\"]\n",
      "Any[\"hae\", \"lei\"]\n",
      "Any[\"primero\", \"sulphur\"]\n",
      "Any[\"nod\", \"ope\"]\n",
      "Any[\"alp\", \"dos\"]\n",
      "Any[\"pa\", \"xi\"]\n",
      "Any[\"aha\", \"bib\", \"nun\"]\n",
      "Any[\"baff\", \"jinn\"]\n",
      "Any[\"fils\", \"lory\"]\n",
      "Any[\"fohn\", \"lunt\"]\n",
      "Any[\"eld\", \"hog\"]\n",
      "Any[\"aff\", \"inn\"]\n",
      "Any[\"ha\", \"oh\", \"pi\", \"un\"]\n",
      "Any[\"odor\", \"peps\"]\n",
      "Any[\"char\", \"dibs\"]\n",
      "Any[\"koa\", \"ose\"]\n",
      "Any[\"hep\", \"lit\"]\n",
      "Any[\"lob\", \"ore\"]\n",
      "Any[\"dei\", \"him\", \"nos\", \"opt\"]\n",
      "Any[\"om\", \"us\"]\n",
      "Any[\"amu\", \"cow\"]\n",
      "Any[\"nap\", \"ret\"]\n",
      "Any[\"log\", \"rum\", \"two\"]\n",
      "Any[\"molt\", \"prow\"]\n",
      "Any[\"ego\", \"mow\"]\n",
      "Any[\"lap\", \"ods\", \"pet\"]\n",
      "Any[\"babe\", \"pops\"]\n",
      "Any[\"sheer\", \"tiffs\"]\n",
      "Any[\"bog\", \"hum\"]\n",
      "Any[\"star\", \"tubs\"]\n",
      "Any[\"jiffs\", \"polly\"]\n",
      "Any[\"ana\", \"bob\", \"ere\", \"huh\"]\n",
      "Any[\"ham\", \"piu\"]\n",
      "Any[\"ganja\", \"kerne\"]\n",
      "Any[\"ais\", \"goy\"]\n",
      "Any[\"jee\", \"too\"]\n",
      "Any[\"mog\", \"sum\"]\n",
      "Any[\"loaf\", \"twin\"]\n",
      "Any[\"did\", \"pup\"]\n",
      "Any[\"nisi\", \"toyo\"]\n",
      "Any[\"one\", \"sri\"]\n",
      "Any[\"olla\", \"rood\"]\n",
      "Any[\"anna\", \"boob\"]\n",
      "Any[\"abo\", \"efs\"]\n",
      "Any[\"gin\", \"mot\"]\n",
      "Any[\"gat\", \"kex\"]\n",
      "Any[\"golem\", \"murks\"]\n",
      "Any[\"beef\", \"loop\", \"psst\"]\n",
      "Any[\"am\", \"my\"]\n",
      "Any[\"ae\", \"os\"]\n",
      "Any[\"eme\", \"mum\"]\n",
      "Any[\"eng\", \"foh\", \"irk\"]\n",
      "Any[\"steeds\", \"tuffet\"]\n",
      "Any[\"rap\", \"vet\"]\n",
      "Any[\"ban\", \"fer\"]\n",
      "Any[\"ordo\", \"twit\"]\n",
      "Any[\"goa\", \"mug\"]\n",
      "Any[\"hide\", \"stop\"]\n",
      "Any[\"heil\", \"limp\"]\n",
      "Any[\"bin\", \"hot\"]\n",
      "Any[\"fop\", \"oxy\"]\n",
      "Any[\"gel\", \"kip\", \"try\"]\n",
      "Any[\"lane\", \"peri\", \"shul\"]\n",
      "Any[\"john\", \"punt\"]\n",
      "Any[\"fas\", \"jew\"]\n",
      "Any[\"egad\", \"moil\"]\n",
      "Any[\"jib\", \"poh\"]\n",
      "Any[\"auk\", \"cwm\"]\n",
      "Any[\"rah\", \"zip\"]\n",
      "Any[\"pas\", \"tew\"]\n",
      "Any[\"mocha\", \"suing\"]\n",
      "Any[\"par\", \"why\"]\n",
      "Any[\"add\", \"bee\", \"ill\", \"loo\"]\n",
      "Any[\"lin\", \"rot\"]\n",
      "Any[\"sera\", \"wive\"]\n",
      "Any[\"ion\", \"out\"]\n",
      "Any[\"lea\", \"pie\"]\n",
      "Any[\"ads\", \"bet\", \"fix\"]\n",
      "Any[\"do\", \"it\"]\n",
      "Any[\"mir\", \"sox\"]\n",
      "Any[\"glib\", \"jole\"]\n",
      "Any[\"djin\", \"ions\"]\n",
      "Any[\"daff\", \"linn\"]\n",
      "Any[\"elk\", \"nut\"]\n",
      "Any[\"ids\", \"jet\", \"nix\"]\n",
      "Any[\"pah\", \"who\"]\n",
      "Any[\"her\", \"ifs\"]\n",
      "Any[\"ka\", \"oe\", \"si\"]\n",
      "Any[\"pele\", \"tipi\"]\n",
      "Any[\"air\", \"gox\"]\n",
      "Any[\"alb\", \"doe\"]\n",
      "Any[\"ink\", \"pur\"]\n",
      "Any[\"milt\", \"plow\"]\n",
      "Any[\"jinns\", \"potty\"]\n",
      "Any[\"banjo\", \"ferns\"]\n",
      "Any[\"sec\", \"wig\"]\n",
      "Any[\"biffs\", \"holly\"]\n",
      "Any[\"ohs\", \"pit\"]\n",
      "Any[\"ants\", \"bout\"]\n",
      "Any[\"feed\", \"poon\"]\n",
      "Any[\"la\", \"od\", \"pe\", \"sh\", \"ti\"]\n",
      "Any[\"gal\", \"kep\"]\n",
      "Any[\"fake\", \"toys\"]\n",
      "Any[\"na\", \"re\"]\n",
      "Any[\"lac\", \"peg\"]\n",
      "Any[\"inkier\", \"purply\"]\n",
      "Any[\"asp\", \"cur\"]\n",
      "Any[\"baa\", \"fee\"]\n",
      "Any[\"lutea\", \"pyxie\"]\n",
      "Any[\"bed\", \"ilk\", \"rut\"]\n",
      "Any[\"dolt\", \"grow\"]\n",
      "Any[\"ai\", \"em\", \"go\", \"mu\", \"ow\"]\n",
      "Any[\"hap\", \"let\", \"pix\"]\n",
      "Any[\"khan\", \"spiv\"]\n",
      "Any[\"ahem\", \"holt\"]\n",
      "Any[\"mi\", \"so\"]\n",
      "Any[\"bolls\", \"hurry\"]\n",
      "Any[\"chef\", \"purs\"]\n",
      "Any[\"hark\", \"levo\"]\n",
      "Any[\"nae\", \"rei\", \"vim\"]\n",
      "Any[\"cold\", \"frog\"]\n",
      "Any[\"gaen\", \"keir\"]\n",
      "Any[\"end\", \"foe\"]\n",
      "Any[\"adds\", \"beet\"]\n",
      "Any[\"gab\", \"kef\"]\n",
      "Any[\"balk\", \"onyx\"]\n",
      "Any[\"at\", \"ex\"]\n",
      "Any[\"boo\", \"err\"]\n",
      "Any[\"lean\", \"pier\"]\n",
      "Any[\"fills\", \"lorry\"]\n",
      "Any[\"cee\", \"egg\", \"moo\"]\n",
      "Any[\"ail\", \"gor\"]\n",
      "Any[\"fed\", \"uts\"]\n",
      "Any[\"haji\", \"slut\"]\n",
      "Any[\"rho\", \"sip\"]\n",
      "Any[\"ton\", \"upo\"]\n",
      "Any[\"puna\", \"tyre\"]\n",
      "Any[\"mola\", \"prod\"]\n",
      "Any[\"calk\", \"kits\"]\n",
      "Any[\"oar\", \"wiz\"]\n",
      "Any[\"dak\", \"lis\"]\n",
      "Any[\"oka\", \"yuk\"]\n",
      "Any[\"capo\", \"gets\"]\n",
      "Any[\"odd\", \"pee\", \"shh\", \"zoo\"]\n",
      "Any[\"loch\", \"ruin\"]\n",
      "Any[\"dud\", \"eve\"]\n",
      "Any[\"bop\", \"ers\"]\n",
      "Any[\"in\", \"jo\"]\n",
      "Any[\"aah\", \"eel\"]\n",
      "Any[\"mar\", \"thy\"]\n",
      "Any[\"eches\", \"kinky\"]\n",
      "Any[\"orb\", \"rue\"]\n",
      "Any[\"eche\", \"kink\"]\n",
      "Any[\"teloi\", \"whorl\"]\n",
      "Any[\"din\", \"ins\", \"jot\"]\n",
      "Any[\"cobb\", \"free\"]\n",
      "Any[\"bas\", \"few\"]\n",
      "Any[\"fad\", \"nil\", \"tor\", \"ups\"]\n",
      "Any[\"fido\", \"knit\"]\n",
      "Any[\"knar\", \"lobs\"]\n",
      "Any[\"arf\", \"dui\"]\n",
      "Any[\"nab\", \"ref\"]\n",
      "Any[\"baal\", \"eddo\"]\n",
      "Any[\"deed\", \"noon\"]\n",
      "Any[\"sneer\", \"toffs\"]\n",
      "Any[\"mis\", \"soy\"]\n",
      "Any[\"jeed\", \"toon\"]\n",
      "Any[\"cap\", \"get\"]\n",
      "Any[\"del\", \"hip\"]\n",
      "Any[\"boa\", \"hug\"]\n",
      "Any[\"hen\", \"spy\"]\n",
      "Any[\"cedi\", \"mons\"]\n",
      "Any[\"mem\", \"wow\"]\n",
      "Any[\"ah\", \"bi\", \"el\", \"ho\", \"nu\"]\n",
      "Any[\"dap\", \"het\"]\n",
      "Any[\"gad\", \"oil\"]\n",
      "Any[\"cheer\", \"jolly\"]\n",
      "Any[\"aped\", \"fuji\"]\n",
      "Any[\"chain\", \"ingot\"]\n",
      "Any[\"noggs\", \"tummy\"]\n",
      "Any[\"pean\", \"tier\"]\n",
      "Any[\"ails\", \"gory\"]\n",
      "Any[\"fob\", \"ire\"]\n",
      "Any[\"led\", \"von\"]\n",
      "Any[\"ben\", \"fir\", \"lox\"]\n",
      "Any[\"lad\", \"til\"]\n",
      "Any[\"deer\", \"effs\"]\n",
      "Any[\"gnar\", \"hobs\"]\n",
      "Any[\"foam\", \"lugs\"]\n",
      "Any[\"fade\", \"tors\"]\n",
      "Any[\"nils\", \"tory\"]\n",
      "Any[\"lop\", \"ors\"]\n",
      "Any[\"noh\", \"tun\"]\n",
      "Any[\"sap\", \"wet\"]\n",
      "Any[\"oak\", \"wis\"]\n",
      "Any[\"jiff\", \"poll\"]\n",
      "Any[\"dank\", \"hero\"]\n",
      "Any[\"me\", \"wo\"]\n",
      "Any[\"mho\", \"nip\", \"wry\"]\n",
      "Any[\"las\", \"pew\"]\n",
      "Any[\"okeh\", \"soil\"]\n",
      "Any[\"dah\", \"lip\"]\n",
      "Any[\"nome\", \"tusk\"]\n",
      "Any[\"pea\", \"tie\"]\n",
      "Any[\"fib\", \"run\"]\n",
      "Any[\"caps\", \"ecru\"]\n",
      "Any[\"adder\", \"beefs\"]\n",
      "Any[\"nill\", \"torr\"]\n",
      "Any[\"peed\", \"zoon\"]\n",
      "Any[\"ohm\", \"pin\", \"uns\"]\n",
      "Any[\"beg\", \"ort\"]\n",
      "Any[\"ba\", \"on\", \"ut\"]\n",
      "Any[\"hat\", \"lex\"]\n",
      "Any[\"fin\", \"lot\"]\n",
      "Any[\"pelt\", \"show\"]\n",
      "Any[\"gig\", \"mom\"]\n",
      "Any[\"kae\", \"sim\"]\n",
      "Any[\"els\", \"gnu\"]\n",
      "Any[\"ark\", \"dun\"]\n",
      "Any[\"fog\", \"lum\"]\n",
      "Any[\"fa\", \"id\", \"to\", \"up\"]\n",
      "Any[\"lib\", \"ole\"]\n",
      "Any[\"nor\", \"ops\", \"tux\"]\n",
      "Any[\"hem\", \"row\"]\n",
      "Any[\"ale\", \"jun\"]\n",
      "Any[\"phi\", \"wop\"]\n",
      "Any[\"anteed\", \"bouffe\"]\n",
      "Any[\"opal\", \"step\"]\n",
      "Any[\"lang\", \"perk\", \"shun\"]\n",
      "Any[\"dab\", \"khi\"]\n",
      "Any[\"dee\", \"eff\", \"noo\"]\n",
      "Any[\"folk\", \"iron\"]\n",
      "Any[\"ratan\", \"vexer\"]\n",
      "Any[\"jin\", \"ons\", \"pot\"]\n",
      "Any[\"eta\", \"fub\"]\n",
      "Any[\"luna\", \"pyre\"]\n",
      "Any[\"ling\", \"spun\"]\n",
      "Any[\"hag\", \"lek\"]\n",
      "Any[\"arm\", \"dup\"]\n",
      "Any[\"lab\", \"ode\"]\n",
      "Any[\"mills\", \"sorry\"]\n",
      "Any[\"lallan\", \"pepper\"]\n",
      "Any[\"oaf\", \"win\"]\n",
      "Any[\"steer\", \"tuffs\"]\n",
      "Any[\"gib\", \"sun\"]\n",
      "Any[\"idem\", \"snow\"]\n",
      "Any[\"mim\", \"sos\"]\n",
      "Any[\"inks\", \"jolt\"]\n",
      "Any[\"pac\", \"teg\"]\n",
      "Any[\"don\", \"its\", \"jut\"]\n",
      "Any[\"crap\", \"fuds\"]\n",
      "Any[\"danio\", \"herms\"]\n",
      "Any[\"mid\", \"yup\"]\n",
      "Any[\"molas\", \"surgy\"]\n",
      "Any[\"de\", \"ef\", \"hi\", \"no\", \"op\"]\n",
      "Any[\"is\", \"oy\"]\n",
      "Any[\"ado\", \"fit\"]\n",
      "Any[\"ask\", \"cum\"]\n",
      "Any[\"lie\", \"urn\"]\n",
      "Any[\"pull\", \"typp\"]\n",
      "Any[\"oafs\", \"ugly\"]\n",
      "Any[\"dig\", \"pus\"]\n",
      "Any[\"imp\", \"kor\"]\n",
      "Any[\"hade\", \"slop\"]\n",
      "Any[\"johns\", \"punty\"]\n",
      "Any[\"proa\", \"surd\"]\n",
      "Any[\"gip\", \"pry\"]\n",
      "Any[\"lar\", \"shy\"]\n",
      "Any[\"dib\", \"pun\"]\n",
      "Any[\"ceil\", \"gimp\"]\n",
      "Any[\"gid\", \"sup\"]\n",
      "Any[\"punk\", \"tyro\"]\n",
      "Any[\"ohms\", \"pint\"]\n",
      "Any[\"open\", \"stir\"]\n",
      "Any[\"rat\", \"vex\"]\n",
      "Any[\"da\", \"he\", \"if\", \"li\", \"xu\"]\n",
      "Any[\"ain\", \"got\"]\n",
      "Any[\"dodo\", \"juju\"]\n",
      "Any[\"bis\", \"hoy\"]\n",
      "Any[\"des\", \"eft\"]\n",
      "Any[\"mol\", \"pro\"]\n",
      "Any[\"loam\", \"rugs\"]\n",
      "Any[\"slam\", \"unco\"]\n",
      "Any[\"alt\", \"dow\"]\n",
      "Any[\"oat\", \"sex\"]\n",
      "Any[\"ice\", \"keg\"]\n",
      "Any[\"big\", \"nus\"]\n",
      "Any[\"sic\", \"uke\"]\n",
      "Any[\"en\", \"ox\"]\n",
      "Any[\"jinni\", \"potto\"]\n",
      "Any[\"aba\", \"tut\"]\n",
      "Any[\"aga\", \"eke\"]\n",
      "Any[\"drab\", \"gude\"]\n"
     ]
    }
   ],
   "source": [
    "cd(\"/home/yiming/Desktop/Codes/Think-Julia-How-to-Think-Like-A-Computer-Scientist/Data/\")\n",
    "\n",
    "\"\"\"\n",
    "This function finds the reduced form of an input lowercase word.\n",
    "\n",
    "For example, \n",
    "    Int('c') = 99\n",
    "    Int('h') = 104\n",
    "    Int('e') = 101\n",
    "    Int('r') = 114\n",
    "\n",
    "So the reduced form of the word \"cheer\" is (99-99, 104-99, 101-99, 114-99) = (0,5,2,15)\n",
    "\"\"\"\n",
    "function reduced_form(word)\n",
    "    num = []\n",
    "    for letter in word\n",
    "        push!(num, Int(letter))\n",
    "    end\n",
    "    base = num[1]\n",
    "    for i in 1:length(num)\n",
    "        num[i] = num[i] - base\n",
    "    end\n",
    "    num = Tuple(num)\n",
    "    return num\n",
    "end\n",
    "\n",
    "d = Dict()\n",
    "for line in eachline(\"words.txt\")\n",
    "    push!(get!(d, reduced_form(line), []), line)\n",
    "end\n",
    "\n",
    "for k in keys(d)\n",
    "    if length(d[k]) > 1\n",
    "        println(d[k])\n",
    "    end\n",
    "end"
   ]
  },
  {
   "cell_type": "code",
   "execution_count": 21,
   "metadata": {},
   "outputs": [
    {
     "data": {
      "text/plain": [
       "(0, 5, 2, 2, 15)"
      ]
     },
     "execution_count": 21,
     "metadata": {},
     "output_type": "execute_result"
    }
   ],
   "source": [
    "reduced_form(\"cheer\")"
   ]
  },
  {
   "cell_type": "markdown",
   "metadata": {},
   "source": [
    "## Exercise 11-7"
   ]
  },
  {
   "cell_type": "markdown",
   "metadata": {},
   "source": [
    "Here’s another Puzzler from Car Talk:\n",
    "\n",
    "\\[A contributor\\] came upon a common one-syllable, five-letter word recently that has the following unique property. When you remove the first letter, the remaining letters form a homophone of the original word, that is a word that sounds exactly the same. Replace the first letter, that is, put it back and remove the second letter and the result is yet another homophone of the original word. And the question is, what’s the word?\n",
    "\n",
    "Now I'm going to give you an example that doesn’t work. Let’s look at the five-letter word, 'wrack'. W-R-A-C-K, you know like to 'wrack with pain'. If I remove the first letter, I am left with a four-letter word, 'R-A-C-K'. As in, 'Holy cow, did you see the rack on that buck! It must have been a nine-pointer!' It's a perfect homophone. If you put\n",
    "the 'w' back, and remove the 'r', instead, you’re left with the word, 'wack', which is a real word, it’s just not a homophone of the other two words.\n",
    "\n",
    "But there is, however, at least one word that \\[I\\] know of, which will yield two homophones if you remove either of the first two letters to make two, new four-letter words. The question is, what’s the word?\n",
    "\n",
    "You can use the dictionary from \"Exercise 11-2\" on page 139 to check whether a\n",
    "string is in the word array.\n",
    "\n",
    "> To check whether two words are homophones, you can use the Carnegie Mellon University Pronouncing Dictionary.\n",
    "\n",
    "Write a program that lists all the words that solve the Puzzler."
   ]
  },
  {
   "cell_type": "code",
   "execution_count": 33,
   "metadata": {},
   "outputs": [
    {
     "name": "stdout",
     "output_type": "stream",
     "text": [
      "Any[\"abide\", \"abyes\", \"adits\", \"aglee\", \"aglow\", \"aline\", \"amids\", \"amine\", \"amirs\", \"anils\", \"aside\", \"ayins\", \"baals\", \"baits\", \"beach\", \"bears\", \"beast\", \"beats\", \"bhang\", \"bhoot\", \"bhuts\", \"black\", \"blade\", \"bland\", \"blank\", \"blase\", \"blast\", \"blate\", \"blats\", \"bleak\", \"blear\", \"blend\", \"blent\", \"blest\", \"blets\", \"blobs\", \"block\", \"bloom\", \"blots\", \"blows\", \"bluff\", \"blunt\", \"blush\", \"boars\", \"boast\", \"boats\", \"boots\", \"bouts\", \"brads\", \"brags\", \"brail\", \"brake\", \"brand\", \"brank\", \"brash\", \"brats\", \"brays\", \"bread\", \"bream\", \"brees\", \"brent\", \"bride\", \"brill\", \"brins\", \"brisk\", \"brock\", \"broil\", \"brook\", \"broom\", \"brows\", \"brunt\", \"brush\", \"brusk\", \"cease\", \"chams\", \"chant\", \"chaps\", \"chard\", \"chare\", \"chark\", \"chart\", \"chats\", \"chaws\", \"chock\", \"choke\", \"chops\", \"chows\", \"chubs\", \"chuff\", \"churl\", \"cions\", \"clads\", \"clamp\", \"clams\", \"claps\", \"clash\", \"clast\", \"clave\", \"claws\", \"clays\", \"cline\", \"clock\", \"clogs\", \"clone\", \"cloot\", \"clops\", \"clots\", \"clove\", \"clues\", \"coast\", \"coats\", \"coops\", \"coots\", \"crake\", \"cramp\", \"crams\", \"crape\", \"craps\", \"crash\", \"crate\", \"crave\", \"craws\", \"crock\", \"crook\", \"croup\", \"crows\", \"daunt\", \"dhole\", \"dhows\", \"djins\", \"doozy\", \"draff\", \"draft\", \"drags\", \"drams\", \"drank\", \"draws\", \"drays\", \"dread\", \"drear\", \"dreck\", \"dreed\", \"drees\", \"dribs\", \"drill\", \"drink\", \"drips\", \"drive\", \"droll\", \"drove\", \"drubs\", \"drugs\", \"dwell\", \"dwine\", \"eager\", \"eaves\", \"erase\", \"every\", \"fails\", \"fairs\", \"feast\", \"feats\", \"flags\", \"flair\", \"flake\", \"flame\", \"flash\", \"flats\", \"flays\", \"flees\", \"fleet\", \"flits\", \"flogs\", \"flops\", \"floss\", \"flour\", \"flunk\", \"foils\", \"fours\", \"frags\", \"frail\", \"frats\", \"frays\", \"freed\", \"frees\", \"frets\", \"frigs\", \"frill\", \"froes\", \"frugs\", \"gains\", \"gears\", \"ghast\", \"ghats\", \"glads\", \"glaze\", \"gleek\", \"glees\", \"glens\", \"globs\", \"glory\", \"glout\", \"goats\", \"gouts\", \"grads\", \"grain\", \"gramp\", \"grams\", \"grape\", \"grasp\", \"grate\", \"grave\", \"grays\", \"graze\", \"greed\", \"greek\", \"grees\", \"grids\", \"grift\", \"grigs\", \"grill\", \"grins\", \"grips\", \"grout\", \"gruff\", \"haunt\", \"heath\", \"heats\", \"heave\", \"hoops\", \"hoots\", \"icons\", \"joust\", \"kains\", \"khats\", \"knits\", \"krill\", \"lears\", \"lease\", \"least\", \"leave\", \"llama\", \"loath\", \"loops\", \"loots\", \"lyard\", \"maids\", \"mails\", \"mairs\", \"meats\", \"moats\", \"moils\", \"moots\", \"mouch\", \"nails\", \"noils\", \"oohed\", \"paeon\", \"pains\", \"pears\", \"pease\", \"peats\", \"peons\", \"phone\", \"phots\", \"pilea\", \"pions\", \"place\", \"plack\", \"plaid\", \"plain\", \"plane\", \"plash\", \"plate\", \"plats\", \"plays\", \"pleas\", \"plied\", \"plier\", \"plies\", \"plink\", \"plops\", \"plots\", \"plows\", \"pluck\", \"plugs\", \"plump\", \"plunk\", \"plush\", \"poops\", \"pours\", \"pouts\", \"prams\", \"prang\", \"prase\", \"prate\", \"prats\", \"prays\", \"preed\", \"prees\", \"preps\", \"prest\", \"price\", \"prick\", \"prigs\", \"prill\", \"prink\", \"prods\", \"prole\", \"prose\", \"prosy\", \"prows\", \"pyins\", \"raids\", \"rains\", \"reave\", \"roots\", \"roust\", \"routs\", \"sains\", \"scabs\", \"scall\", \"scamp\", \"scans\", \"scent\", \"scold\", \"scone\", \"scoot\", \"scops\", \"score\", \"scorn\", \"scots\", \"scows\", \"scuds\", \"scups\", \"scurf\", \"seels\", \"sepic\", \"shack\", \"shade\", \"shags\", \"shake\", \"shale\", \"shall\", \"shalt\", \"shame\", \"shank\", \"shard\", \"shark\", \"shaul\", \"shave\", \"shaws\", \"shays\", \"sheal\", \"shear\", \"shell\", \"shent\", \"shewn\", \"shews\", \"shill\", \"shins\", \"ships\", \"shire\", \"shits\", \"shock\", \"shone\", \"shoot\", \"shops\", \"shorn\", \"shots\", \"shows\", \"shuck\", \"shuns\", \"skeen\", \"skill\", \"skink\", \"skins\", \"skips\", \"skite\", \"skits\", \"slabs\", \"slack\", \"slags\", \"slain\", \"slake\", \"slang\", \"slank\", \"slaps\", \"slash\", \"slate\", \"slave\", \"slaws\", \"slays\", \"sleek\", \"slice\", \"slick\", \"sling\", \"slink\", \"slips\", \"slits\", \"slobs\", \"slops\", \"sloth\", \"slots\", \"slows\", \"slues\", \"slump\", \"slums\", \"slung\", \"slunk\", \"smack\", \"small\", \"smalt\", \"smash\", \"smeek\", \"smell\", \"smews\", \"smite\", \"smock\", \"smoke\", \"snags\", \"snail\", \"snaps\", \"snark\", \"snibs\", \"snick\", \"snide\", \"snips\", \"snits\", \"snobs\", \"snows\", \"snubs\", \"soots\", \"spail\", \"spale\", \"spall\", \"spang\", \"spans\", \"spark\", \"spate\", \"spawn\", \"spays\", \"spear\", \"speed\", \"speel\", \"speer\", \"spend\", \"spent\", \"spews\", \"spice\", \"spick\", \"spics\", \"spike\", \"spill\", \"spine\", \"spins\", \"spits\", \"splat\", \"splay\", \"spoke\", \"spoon\", \"spore\", \"sport\", \"spots\", \"spuds\", \"spunk\", \"stabs\", \"stack\", \"stags\", \"stain\", \"stake\", \"stale\", \"stall\", \"stamp\", \"stang\", \"stank\", \"state\", \"steal\", \"steam\", \"steed\", \"stews\", \"stick\", \"still\", \"stilt\", \"sting\", \"stoke\", \"stole\", \"stone\", \"stops\", \"store\", \"stour\", \"stows\", \"stubs\", \"stuck\", \"stump\", \"stung\", \"stuns\", \"swabs\", \"swage\", \"swags\", \"swail\", \"swain\", \"swale\", \"swans\", \"swaps\", \"sward\", \"swash\", \"sways\", \"swear\", \"sweep\", \"sweer\", \"swell\", \"swept\", \"swill\", \"swine\", \"swing\", \"swink\", \"swipe\", \"swith\", \"swops\", \"sword\", \"swore\", \"sworn\", \"swots\", \"tails\", \"tains\", \"tasks\", \"teach\", \"tears\", \"teats\", \"thack\", \"thank\", \"thaws\", \"thens\", \"therm\", \"thews\", \"thick\", \"thill\", \"thins\", \"thole\", \"thong\", \"thorn\", \"thugs\", \"thump\", \"toils\", \"toots\", \"touts\", \"trace\", \"track\", \"trail\", \"train\", \"tramp\", \"trams\", \"traps\", \"treed\", \"trees\", \"trend\", \"trick\", \"trill\", \"trips\", \"troll\", \"trope\", \"trots\", \"trout\", \"trows\", \"truck\", \"trump\", \"tsuba\", \"twain\", \"twats\", \"tweak\", \"tweed\", \"tween\", \"twill\", \"twine\", \"twins\", \"twiny\", \"twits\", \"veery\", \"vrows\", \"wains\", \"waits\", \"wears\", \"weave\", \"whack\", \"whale\", \"whaps\", \"whats\", \"wheal\", \"wheel\", \"whens\", \"where\", \"whins\", \"whist\", \"whits\", \"whops\", \"woops\", \"wrack\", \"wraps\", \"wrest\", \"wring\", \"write\", \"yearn\"]\n"
     ]
    }
   ],
   "source": [
    "cd(\"/home/yiming/Desktop/Codes/Think-Julia-How-to-Think-Like-A-Computer-Scientist/Data/\")\n",
    "\n",
    "dictionary = Dict()\n",
    "for line in eachline(\"words.txt\")\n",
    "    dictionary[line] = get(dictionary, line, 0) + 1\n",
    "end\n",
    "ks = keys(dictionary)\n",
    "\n",
    "# Find all words with length of 5 letters, whose either first letter or the second removed\n",
    "# is stll a word.\n",
    "\n",
    "candidates = []\n",
    "for line in eachline(\"words.txt\")\n",
    "    if length(line) == 5\n",
    "        first = String(collect(line)[2:end])\n",
    "        second = String(deleteat!(collect(line), 2))\n",
    "        if first ∈ ks && second ∈ ks\n",
    "            push!(candidates, line)\n",
    "        end\n",
    "    end\n",
    "end\n",
    "\n",
    "println(candidates)"
   ]
  },
  {
   "cell_type": "markdown",
   "metadata": {},
   "source": [
    "To be continued..."
   ]
  },
  {
   "cell_type": "code",
   "execution_count": null,
   "metadata": {},
   "outputs": [],
   "source": []
  }
 ],
 "metadata": {
  "kernelspec": {
   "display_name": "Julia 1.5.1",
   "language": "julia",
   "name": "julia-1.5"
  },
  "language_info": {
   "file_extension": ".jl",
   "mimetype": "application/julia",
   "name": "julia",
   "version": "1.5.2"
  }
 },
 "nbformat": 4,
 "nbformat_minor": 4
}
