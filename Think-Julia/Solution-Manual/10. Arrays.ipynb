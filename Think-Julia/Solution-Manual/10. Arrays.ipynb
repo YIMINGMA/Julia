{
 "cells": [
  {
   "cell_type": "markdown",
   "metadata": {},
   "source": [
    "# Exercises"
   ]
  },
  {
   "cell_type": "markdown",
   "metadata": {},
   "source": [
    "## Exercise 10-1"
   ]
  },
  {
   "cell_type": "markdown",
   "metadata": {},
   "source": [
    "Write a function called ```nestedsum``` that takes an array of arrays of integers and adds up the elements from all of the nested arrays. For example:\n",
    "\n",
    "```julia\n",
    "julia> t = [[1, 2], [3], [4, 5, 6]];\n",
    "julia> nestedsum(t)\n",
    "21\n",
    "```\n"
   ]
  },
  {
   "cell_type": "code",
   "execution_count": 1,
   "metadata": {},
   "outputs": [
    {
     "data": {
      "text/plain": [
       "nestedsum (generic function with 1 method)"
      ]
     },
     "execution_count": 1,
     "metadata": {},
     "output_type": "execute_result"
    }
   ],
   "source": [
    "function nestedsum(array)\n",
    "    sum_array = 0\n",
    "    for subarray in array\n",
    "        sum_subarray = sum(subarray)\n",
    "        sum_array = sum_array + sum_subarray\n",
    "    end\n",
    "    return sum_array\n",
    "end"
   ]
  },
  {
   "cell_type": "code",
   "execution_count": 2,
   "metadata": {},
   "outputs": [
    {
     "data": {
      "text/plain": [
       "21"
      ]
     },
     "execution_count": 2,
     "metadata": {},
     "output_type": "execute_result"
    }
   ],
   "source": [
    "nestedsum([[1, 2], [3], [4, 5, 6]])"
   ]
  },
  {
   "cell_type": "markdown",
   "metadata": {},
   "source": [
    "## Exercise 10-2"
   ]
  },
  {
   "cell_type": "markdown",
   "metadata": {},
   "source": [
    "Write a function called ```cumulsum``` that takes an array of numbers and returns the cumulative sum; that is, a new array where the ```i```th element is the sum of the first ```i``` elements from the original array. For example:\n",
    "\n",
    "```julia\n",
    "julia> t = [1, 2, 3];\n",
    "julia> print(cumulsum(t))\n",
    "Any[1, 3, 6]\n",
    "```"
   ]
  },
  {
   "cell_type": "code",
   "execution_count": 3,
   "metadata": {},
   "outputs": [
    {
     "data": {
      "text/plain": [
       "cumulsum (generic function with 1 method)"
      ]
     },
     "execution_count": 3,
     "metadata": {},
     "output_type": "execute_result"
    }
   ],
   "source": [
    "function cumulsum(array)\n",
    "    sum_array = []\n",
    "    for i in eachindex(array)\n",
    "        insert!(sum_array, i, sum(array[begin: i]))\n",
    "    end\n",
    "    return sum_array\n",
    "end"
   ]
  },
  {
   "cell_type": "code",
   "execution_count": 4,
   "metadata": {},
   "outputs": [
    {
     "name": "stdout",
     "output_type": "stream",
     "text": [
      "Any[1, 3, 6]\n"
     ]
    }
   ],
   "source": [
    "t = [1, 2, 3]\n",
    "println(cumulsum(t))"
   ]
  },
  {
   "cell_type": "markdown",
   "metadata": {},
   "source": [
    "## Exercise 10-3"
   ]
  },
  {
   "cell_type": "markdown",
   "metadata": {},
   "source": [
    "Write a function called ```interior``` that takes an array and returns a new array that contains all but the first and last elements. For example:\n",
    "\n",
    "```julia\n",
    "julia> t = [1, 2, 3, 4];\n",
    "julia> print(interior(t))\n",
    "[2, 3]\n",
    "```"
   ]
  },
  {
   "cell_type": "code",
   "execution_count": 5,
   "metadata": {},
   "outputs": [
    {
     "data": {
      "text/plain": [
       "interior (generic function with 1 method)"
      ]
     },
     "execution_count": 5,
     "metadata": {},
     "output_type": "execute_result"
    }
   ],
   "source": [
    "function interior(array)\n",
    "    if length(array) < 2\n",
    "        error(\"Bad input, try again.\")\n",
    "    else\n",
    "        copy = array[:]\n",
    "        popfirst!(copy)\n",
    "        pop!(copy)\n",
    "    end\n",
    "    return copy\n",
    "end"
   ]
  },
  {
   "cell_type": "code",
   "execution_count": 6,
   "metadata": {},
   "outputs": [
    {
     "name": "stdout",
     "output_type": "stream",
     "text": [
      "[2, 3]\n"
     ]
    }
   ],
   "source": [
    "t = [1, 2, 3, 4]\n",
    "println(interior(t))"
   ]
  },
  {
   "cell_type": "code",
   "execution_count": 7,
   "metadata": {},
   "outputs": [
    {
     "ename": "LoadError",
     "evalue": "Bad input, try again.",
     "output_type": "error",
     "traceback": [
      "Bad input, try again.",
      "",
      "Stacktrace:",
      " [1] interior(::Array{Any,1}) at ./In[5]:3",
      " [2] top-level scope at In[7]:2",
      " [3] execute_code(::String, ::String) at /home/yiming/.julia/packages/IJulia/rWZ9e/src/execute_request.jl:27",
      " [4] execute_request(::ZMQ.Socket, ::IJulia.Msg) at /home/yiming/.julia/packages/IJulia/rWZ9e/src/execute_request.jl:86",
      " [5] #invokelatest#1 at ./essentials.jl:710 [inlined]",
      " [6] invokelatest at ./essentials.jl:709 [inlined]",
      " [7] eventloop(::ZMQ.Socket) at /home/yiming/.julia/packages/IJulia/rWZ9e/src/eventloop.jl:8",
      " [8] (::IJulia.var\"#15#18\")() at ./task.jl:356"
     ]
    }
   ],
   "source": [
    "t = []\n",
    "println(interior(t))"
   ]
  },
  {
   "cell_type": "code",
   "execution_count": 8,
   "metadata": {},
   "outputs": [
    {
     "ename": "LoadError",
     "evalue": "Bad input, try again.",
     "output_type": "error",
     "traceback": [
      "Bad input, try again.",
      "",
      "Stacktrace:",
      " [1] interior(::Array{Int64,1}) at ./In[5]:3",
      " [2] top-level scope at In[8]:2",
      " [3] execute_code(::String, ::String) at /home/yiming/.julia/packages/IJulia/rWZ9e/src/execute_request.jl:27",
      " [4] execute_request(::ZMQ.Socket, ::IJulia.Msg) at /home/yiming/.julia/packages/IJulia/rWZ9e/src/execute_request.jl:86",
      " [5] #invokelatest#1 at ./essentials.jl:710 [inlined]",
      " [6] invokelatest at ./essentials.jl:709 [inlined]",
      " [7] eventloop(::ZMQ.Socket) at /home/yiming/.julia/packages/IJulia/rWZ9e/src/eventloop.jl:8",
      " [8] (::IJulia.var\"#15#18\")() at ./task.jl:356"
     ]
    }
   ],
   "source": [
    "t = [1]\n",
    "println(interior(t))"
   ]
  },
  {
   "cell_type": "code",
   "execution_count": 9,
   "metadata": {},
   "outputs": [
    {
     "name": "stdout",
     "output_type": "stream",
     "text": [
      "Int64[]\n"
     ]
    }
   ],
   "source": [
    "t = [1, 2]\n",
    "println(interior(t))"
   ]
  },
  {
   "cell_type": "markdown",
   "metadata": {},
   "source": [
    "## Exercise 10-4"
   ]
  },
  {
   "cell_type": "markdown",
   "metadata": {},
   "source": [
    "Write a function called ```interior!``` that takes an array, modifies it by removing the first and last elements, and returns ```nothing```. For example:\n",
    "\n",
    "```julia\n",
    "julia> t = [1, 2, 3, 4];\n",
    "julia> interior!(t)\n",
    "julia> print(t)\n",
    "[2, 3]\n",
    "```"
   ]
  },
  {
   "cell_type": "code",
   "execution_count": 10,
   "metadata": {},
   "outputs": [
    {
     "data": {
      "text/plain": [
       "interior! (generic function with 1 method)"
      ]
     },
     "execution_count": 10,
     "metadata": {},
     "output_type": "execute_result"
    }
   ],
   "source": [
    "function interior!(array)\n",
    "    if length(array) < 2\n",
    "        error(\"Bad input, try again\")\n",
    "    else\n",
    "        pop!(array)\n",
    "        popfirst!(array)\n",
    "    end\n",
    "end"
   ]
  },
  {
   "cell_type": "code",
   "execution_count": 11,
   "metadata": {},
   "outputs": [
    {
     "name": "stdout",
     "output_type": "stream",
     "text": [
      "[2, 3]"
     ]
    }
   ],
   "source": [
    "t = [1, 2, 3, 4]\n",
    "interior!(t)\n",
    "print(t)"
   ]
  },
  {
   "cell_type": "markdown",
   "metadata": {},
   "source": [
    "## Exercise 10-5"
   ]
  },
  {
   "cell_type": "markdown",
   "metadata": {},
   "source": [
    "Write a function called ```issort``` that takes an array as a parameter and returns ```true``` if the array is sorted in ascending order and ```false``` otherwise. For example:\n",
    "\n",
    "```julia\n",
    "julia> issort([1, 2, 2])\n",
    "true\n",
    "julia> issort(['b', 'a'])\n",
    "false\n",
    "```"
   ]
  },
  {
   "cell_type": "code",
   "execution_count": 12,
   "metadata": {},
   "outputs": [
    {
     "data": {
      "text/plain": [
       "issort (generic function with 1 method)"
      ]
     },
     "execution_count": 12,
     "metadata": {},
     "output_type": "execute_result"
    }
   ],
   "source": [
    "function issort(array)\n",
    "    for idx in eachindex(array)\n",
    "        if idx < lastindex(array)\n",
    "            ele1 = array[idx]\n",
    "            ele2 = array[idx+1]\n",
    "            if ele1 > ele2\n",
    "                return false\n",
    "            end\n",
    "        end\n",
    "    end\n",
    "    return true\n",
    "end     "
   ]
  },
  {
   "cell_type": "code",
   "execution_count": 13,
   "metadata": {},
   "outputs": [
    {
     "name": "stdout",
     "output_type": "stream",
     "text": [
      "true\n",
      "false\n"
     ]
    }
   ],
   "source": [
    "println(issort([1, 2, 3]))\n",
    "println(issort(['b', 'a']))"
   ]
  },
  {
   "cell_type": "markdown",
   "metadata": {},
   "source": [
    "## Exercise 10-6"
   ]
  },
  {
   "cell_type": "markdown",
   "metadata": {},
   "source": [
    "**Two words are anagrams if you can rearrange the letters from one to spell the other.**\n",
    "Write a function called ```isanagram``` that takes two strings and returns true if they are\n",
    "anagrams."
   ]
  },
  {
   "cell_type": "code",
   "execution_count": 14,
   "metadata": {},
   "outputs": [
    {
     "data": {
      "text/plain": [
       "isanagram (generic function with 1 method)"
      ]
     },
     "execution_count": 14,
     "metadata": {},
     "output_type": "execute_result"
    }
   ],
   "source": [
    "function isanagram(array1, array2)\n",
    "    copy1 = sort(array1)\n",
    "    copy2 = sort(array2)\n",
    "    return copy1 == copy2\n",
    "end"
   ]
  },
  {
   "cell_type": "markdown",
   "metadata": {},
   "source": [
    "## Exercise 10-7"
   ]
  },
  {
   "cell_type": "markdown",
   "metadata": {},
   "source": [
    "Write a function called ```hasduplicates``` that takes an array and returns ```true``` if there is\n",
    "any element that appears more than once. It should not modify the original array."
   ]
  },
  {
   "cell_type": "code",
   "execution_count": 15,
   "metadata": {},
   "outputs": [
    {
     "data": {
      "text/plain": [
       "hasduplicates (generic function with 1 method)"
      ]
     },
     "execution_count": 15,
     "metadata": {},
     "output_type": "execute_result"
    }
   ],
   "source": [
    "function hasduplicates(array)\n",
    "    record = []\n",
    "    for ele in array\n",
    "        if ele ∉ record\n",
    "            push!(record, ele)\n",
    "        else\n",
    "            return true\n",
    "        end\n",
    "    end\n",
    "    return false\n",
    "end"
   ]
  },
  {
   "cell_type": "code",
   "execution_count": 16,
   "metadata": {},
   "outputs": [
    {
     "name": "stdout",
     "output_type": "stream",
     "text": [
      "false\n",
      "true\n",
      "false\n",
      "true\n"
     ]
    }
   ],
   "source": [
    "array1 = [1, 2, 3, 4, 5]\n",
    "array2 = [1, 2, 3, 4, 4]\n",
    "array3 = [\"a\", \"b\", \"c\", \"d\"]\n",
    "array4 = [\"a\", \"b\", \"c\", \"c\"]\n",
    "println(hasduplicates(array1))\n",
    "println(hasduplicates(array2))\n",
    "println(hasduplicates(array3))\n",
    "println(hasduplicates(array4))"
   ]
  },
  {
   "cell_type": "markdown",
   "metadata": {},
   "source": [
    "## Exercise 10-8"
   ]
  },
  {
   "cell_type": "markdown",
   "metadata": {},
   "source": [
    "This exercise pertains to the so-called **Birthday Paradox**.\n",
    "\n",
    "If there are $23$ students in your class, what are the chances that $2$ of you have the same birthday? \n",
    "\n",
    "You can estimate this probability by generating random samples of $23$ birthdays and checking for matches.\n",
    "\n",
    "> You can generate random birthdays with ```rand(1:365)```.\n"
   ]
  },
  {
   "cell_type": "code",
   "execution_count": 17,
   "metadata": {},
   "outputs": [
    {
     "name": "stdout",
     "output_type": "stream",
     "text": [
      "Any[223, 101, 38, 211, 323, 140, 338, 107, 249, 26, 208, 365, 200, 37, 96, 365, 280, 357, 26, 200, 23, 302, 6]\n"
     ]
    }
   ],
   "source": [
    "birthdays = []\n",
    "for i in 1:23\n",
    "    push!(birthdays, rand(1:365))\n",
    "end\n",
    "println(birthdays)"
   ]
  },
  {
   "cell_type": "code",
   "execution_count": 18,
   "metadata": {},
   "outputs": [
    {
     "data": {
      "text/plain": [
       "count_same (generic function with 1 method)"
      ]
     },
     "execution_count": 18,
     "metadata": {},
     "output_type": "execute_result"
    }
   ],
   "source": [
    "function count_same(array)\n",
    "    copy = sort(array)\n",
    "    i = firstindex(array)\n",
    "    j = i\n",
    "    counter1 = 0\n",
    "    while 1 <= i <= lastindex(array)\n",
    "        counter2 = 0\n",
    "        while i <= j <= lastindex(array)\n",
    "            if array[j] == array[i]\n",
    "                counter2 = counter2 + 1\n",
    "                j = j + 1\n",
    "            else\n",
    "                break\n",
    "            end\n",
    "        end\n",
    "        if counter2 != 0\n",
    "            counter2 = counter2 + 1\n",
    "            counter1 = counter1 + counter2\n",
    "            i = i + counter2\n",
    "        else\n",
    "            i = i + 1\n",
    "        end\n",
    "    end\n",
    "    return counter1\n",
    "end"
   ]
  },
  {
   "cell_type": "code",
   "execution_count": 19,
   "metadata": {},
   "outputs": [
    {
     "name": "stdout",
     "output_type": "stream",
     "text": [
      "0.08695652173913043\n"
     ]
    }
   ],
   "source": [
    "println(count_same(birthdays)/23)"
   ]
  },
  {
   "cell_type": "markdown",
   "metadata": {},
   "source": [
    "## Exercise 10-9"
   ]
  },
  {
   "cell_type": "markdown",
   "metadata": {},
   "source": [
    "Write two versions of a function that reads the file words.txt and builds an array with one element per word, one using ```push!``` and the other using the idiom ```t = [t...,x]```. Which one takes longer to run? Why?"
   ]
  },
  {
   "cell_type": "code",
   "execution_count": 20,
   "metadata": {},
   "outputs": [],
   "source": [
    "cd(\"/home/yiming/Desktop/Codes/Think-Julia-How-to-Think-Like-A-Computer-Scientist/Data/\")"
   ]
  },
  {
   "cell_type": "code",
   "execution_count": 21,
   "metadata": {},
   "outputs": [
    {
     "data": {
      "text/plain": [
       "method1 (generic function with 1 method)"
      ]
     },
     "execution_count": 21,
     "metadata": {},
     "output_type": "execute_result"
    }
   ],
   "source": [
    "function method1()\n",
    "    list = []\n",
    "    for line in eachline(\"words.txt\")\n",
    "        push!(list, line)\n",
    "    end\n",
    "end"
   ]
  },
  {
   "cell_type": "code",
   "execution_count": 22,
   "metadata": {},
   "outputs": [
    {
     "name": "stdout",
     "output_type": "stream",
     "text": [
      "  0.013630 seconds (229.61 k allocations: 7.318 MiB)\n"
     ]
    }
   ],
   "source": [
    "@time method1()"
   ]
  },
  {
   "cell_type": "code",
   "execution_count": 23,
   "metadata": {},
   "outputs": [
    {
     "data": {
      "text/plain": [
       "method2 (generic function with 1 method)"
      ]
     },
     "execution_count": 23,
     "metadata": {},
     "output_type": "execute_result"
    }
   ],
   "source": [
    "function method2()\n",
    "    list = []\n",
    "    for line in eachline(\"words.txt\")\n",
    "        list = [list, line]\n",
    "    end\n",
    "end"
   ]
  },
  {
   "cell_type": "code",
   "execution_count": 24,
   "metadata": {},
   "outputs": [
    {
     "name": "stdout",
     "output_type": "stream",
     "text": [
      "  0.060238 seconds (478.14 k allocations: 20.397 MiB, 8.75% gc time)\n"
     ]
    }
   ],
   "source": [
    "@time method2()"
   ]
  },
  {
   "cell_type": "markdown",
   "metadata": {},
   "source": [
    "Conclusion: the one uses ```push!()``` is faster than the one uses ```t = [t,...,x]```."
   ]
  },
  {
   "cell_type": "markdown",
   "metadata": {},
   "source": [
    "## Exercise 10-10"
   ]
  },
  {
   "cell_type": "markdown",
   "metadata": {},
   "source": [
    "To check whether a word is in the word array you just built, you could use the ```∈``` operator, but it would be slow because it searches through the words in order.\n",
    "\n",
    "Because the words are in alphabetical order, we can speed things up with a bisection search (also known as a binary search), which is similar to what you do when you look a word up in the dictionary. You start in the middle and check to see whether the word you are looking for comes before the word in the middle of the array. If so, you search the first half of the array the same way. Otherwise, you search the second half.\n",
    "\n",
    "Either way, you cut the remaining search space in half. If the word array has $113,809$\n",
    "words, it will take about $17$ steps to find the word or conclude that it’s not there.\n",
    "\n",
    "Write a function called ```inbisect``` that takes a sorted array and a target value and\n",
    "returns ```true``` if the word is in the array and ```false``` if it’s not."
   ]
  },
  {
   "cell_type": "code",
   "execution_count": 25,
   "metadata": {},
   "outputs": [
    {
     "data": {
      "text/plain": [
       "inbisect (generic function with 1 method)"
      ]
     },
     "execution_count": 25,
     "metadata": {},
     "output_type": "execute_result"
    }
   ],
   "source": [
    "function inbisect(array, target)\n",
    "    len = length(array)\n",
    "    if len == 0\n",
    "        return false\n",
    "    else\n",
    "        if (len+1) % 2 == 0\n",
    "            middle_idx = Int((len+1) / 2)\n",
    "            middle = array[middle_idx]\n",
    "            if target < middle\n",
    "                inbisect(array[begin:(middle_idx-1)], target)\n",
    "            elseif target == middle\n",
    "                return true\n",
    "            else\n",
    "                inbisect(array[(middle_idx+1):end], target)\n",
    "            end\n",
    "        else\n",
    "            middle_l_idx = Int(floor((len+1) / 2))\n",
    "            middle_l = array[middle_l_idx]\n",
    "            middle_r_idx = Int(ceil((len+1) / 2))\n",
    "            middle_r = array[middle_r_idx]\n",
    "            if target < middle_l\n",
    "                inbisect(array[begin: (middle_l_idx - 1)], target)\n",
    "            elseif target == middle_l || target == middle_r\n",
    "                return true\n",
    "            else\n",
    "                inbisect(array[(middle_r_idx + 1): end], target)\n",
    "            end\n",
    "        end\n",
    "    end\n",
    "end"
   ]
  },
  {
   "cell_type": "code",
   "execution_count": 26,
   "metadata": {},
   "outputs": [
    {
     "name": "stdout",
     "output_type": "stream",
     "text": [
      "false\n"
     ]
    }
   ],
   "source": [
    "println(inbisect([],0))"
   ]
  },
  {
   "cell_type": "code",
   "execution_count": 27,
   "metadata": {},
   "outputs": [
    {
     "name": "stdout",
     "output_type": "stream",
     "text": [
      "false\n",
      "true\n",
      "false\n"
     ]
    }
   ],
   "source": [
    "println(inbisect([1],0))\n",
    "println(inbisect([1],1))\n",
    "println(inbisect([1],2))"
   ]
  },
  {
   "cell_type": "code",
   "execution_count": 28,
   "metadata": {},
   "outputs": [
    {
     "name": "stdout",
     "output_type": "stream",
     "text": [
      "false\n",
      "true\n",
      "true\n",
      "false\n"
     ]
    }
   ],
   "source": [
    "println(inbisect([1, 2],0))\n",
    "println(inbisect([1, 2],1))\n",
    "println(inbisect([1, 2],2))\n",
    "println(inbisect([1, 2],3))"
   ]
  },
  {
   "cell_type": "code",
   "execution_count": 29,
   "metadata": {},
   "outputs": [
    {
     "name": "stdout",
     "output_type": "stream",
     "text": [
      "false\n",
      "true\n",
      "true\n",
      "true\n",
      "false\n"
     ]
    }
   ],
   "source": [
    "println(inbisect([1, 2, 3],0))\n",
    "println(inbisect([1, 2, 3],1))\n",
    "println(inbisect([1, 2, 3],2))\n",
    "println(inbisect([1, 2, 3],3))\n",
    "println(inbisect([1, 2, 3],4))"
   ]
  },
  {
   "cell_type": "code",
   "execution_count": 30,
   "metadata": {},
   "outputs": [
    {
     "name": "stdout",
     "output_type": "stream",
     "text": [
      "false\n",
      "true\n",
      "true\n",
      "true\n",
      "true\n",
      "false\n"
     ]
    }
   ],
   "source": [
    "println(inbisect([1, 2, 3, 4],0))\n",
    "println(inbisect([1, 2, 3, 4],1))\n",
    "println(inbisect([1, 2, 3, 4],2))\n",
    "println(inbisect([1, 2, 3, 4],3))\n",
    "println(inbisect([1, 2, 3, 4],4))\n",
    "println(inbisect([1, 2, 3, 4],0))"
   ]
  },
  {
   "cell_type": "code",
   "execution_count": 31,
   "metadata": {},
   "outputs": [
    {
     "name": "stdout",
     "output_type": "stream",
     "text": [
      "false\n",
      "true\n",
      "true\n",
      "true\n",
      "true\n",
      "true\n",
      "false\n"
     ]
    }
   ],
   "source": [
    "println(inbisect([1, 2, 3, 4, 5],0))\n",
    "println(inbisect([1, 2, 3, 4, 5],1))\n",
    "println(inbisect([1, 2, 3, 4, 5],2))\n",
    "println(inbisect([1, 2, 3, 4, 5],3))\n",
    "println(inbisect([1, 2, 3, 4, 5],4))\n",
    "println(inbisect([1, 2, 3, 4, 5],5))\n",
    "println(inbisect([1, 2, 3, 4, 5],6))"
   ]
  },
  {
   "cell_type": "code",
   "execution_count": 32,
   "metadata": {},
   "outputs": [
    {
     "name": "stdout",
     "output_type": "stream",
     "text": [
      "false\n",
      "true\n",
      "true\n",
      "true\n",
      "true\n",
      "true\n",
      "true\n",
      "false\n"
     ]
    }
   ],
   "source": [
    "println(inbisect([1,2,3,4,5,6],0))\n",
    "println(inbisect([1,2,3,4,5,6],1))\n",
    "println(inbisect([1,2,3,4,5,6],2))\n",
    "println(inbisect([1,2,3,4,5,6],3))\n",
    "println(inbisect([1,2,3,4,5,6],4))\n",
    "println(inbisect([1,2,3,4,5,6],5))\n",
    "println(inbisect([1,2,3,4,5,6],6))\n",
    "println(inbisect([1,2,3,4,5,6],7))"
   ]
  },
  {
   "cell_type": "markdown",
   "metadata": {},
   "source": [
    "## Exercise 10-11"
   ]
  },
  {
   "cell_type": "markdown",
   "metadata": {},
   "source": [
    "Two words are a \"reverse pair\" if each is the reverse of the other. Write a function ```reversepairs``` that finds all the reverse pairs in the word array."
   ]
  },
  {
   "cell_type": "code",
   "execution_count": 33,
   "metadata": {},
   "outputs": [],
   "source": [
    "cd(\"/home/yiming/Desktop/Codes/Think-Julia-How-to-Think-Like-A-Computer-Scientist/Data/\")\n",
    "words_array = []\n",
    "for line in eachline(\"words.txt\")\n",
    "    push!(words_array, line)\n",
    "end"
   ]
  },
  {
   "cell_type": "code",
   "execution_count": 34,
   "metadata": {},
   "outputs": [
    {
     "data": {
      "text/plain": [
       "reversepairs (generic function with 1 method)"
      ]
     },
     "execution_count": 34,
     "metadata": {},
     "output_type": "execute_result"
    }
   ],
   "source": [
    "function reversepairs(words_array)\n",
    "    pairs = []\n",
    "    counter = 1\n",
    "    while counter <= length(words_array)\n",
    "        word = words_array[counter]\n",
    "        reverse = \"\"\n",
    "        for letter in word\n",
    "            reverse = letter * reverse\n",
    "        end\n",
    "        if inbisect(words_array, reverse)\n",
    "            if word ∉ pairs\n",
    "                push!(pairs, word)\n",
    "            end\n",
    "            if reverse ∉ pairs\n",
    "                push!(pairs, reverse)\n",
    "            end\n",
    "        end\n",
    "        counter = counter + 1\n",
    "    end\n",
    "    return pairs\n",
    "end"
   ]
  },
  {
   "cell_type": "code",
   "execution_count": 35,
   "metadata": {},
   "outputs": [
    {
     "data": {
      "text/plain": [
       "885-element Array{Any,1}:\n",
       " \"aa\"\n",
       " \"aba\"\n",
       " \"abut\"\n",
       " \"tuba\"\n",
       " \"ad\"\n",
       " \"da\"\n",
       " \"ados\"\n",
       " \"soda\"\n",
       " \"aga\"\n",
       " \"agar\"\n",
       " \"raga\"\n",
       " \"agas\"\n",
       " \"saga\"\n",
       " ⋮\n",
       " \"tot\"\n",
       " \"tow\"\n",
       " \"wot\"\n",
       " \"trow\"\n",
       " \"wort\"\n",
       " \"tut\"\n",
       " \"vav\"\n",
       " \"waw\"\n",
       " \"way\"\n",
       " \"yaw\"\n",
       " \"wow\"\n",
       " \"yay\""
      ]
     },
     "execution_count": 35,
     "metadata": {},
     "output_type": "execute_result"
    }
   ],
   "source": [
    "pairs = reversepairs(words_array)"
   ]
  },
  {
   "cell_type": "markdown",
   "metadata": {},
   "source": [
    "## Exercise 10-12"
   ]
  },
  {
   "cell_type": "markdown",
   "metadata": {},
   "source": [
    "Two words \"interlock\" if taking alternating letters from each forms a new word. For\n",
    "example, “shoe” and “cold” interlock to form “schooled.”\n",
    "\n",
    "1. Write a program that finds all pairs of words that interlock.\n",
    "Credit: This exercise is inspired by an example at http://puzzlers.org.\n",
    "\n",
    "> Don't enumerate all pairs!"
   ]
  },
  {
   "cell_type": "code",
   "execution_count": 36,
   "metadata": {},
   "outputs": [],
   "source": [
    "cd(\"/home/yiming/Desktop/Codes/Think-Julia-How-to-Think-Like-A-Computer-Scientist/Data/\")\n",
    "words_array = []\n",
    "for line in eachline(\"words.txt\")\n",
    "    push!(words_array, line)\n",
    "end"
   ]
  },
  {
   "cell_type": "markdown",
   "metadata": {},
   "source": [
    "The following solution is very straightforward but not effcient, due to a nested ```for``` loop.\n",
    "\n",
    "```julia\n",
    "function interlock(words_array, word1, word2)\n",
    "    if length(word1) != length(word2)\n",
    "        return false\n",
    "    else\n",
    "        word1 = collect(word1)\n",
    "        word2 = collect(word2)\n",
    "        \n",
    "        combination1 = \"\"\n",
    "        combination2 = \"\"\n",
    "        for i in 1:length(word1)\n",
    "            combination1 = combination1 * word1[i] * word2[i]\n",
    "            combination2 = combination2 * word2[i] * word1[i]\n",
    "        end\n",
    "        \n",
    "        if inbisect(words_array, combination1) || inbisect(words_array, combination2)\n",
    "            return true\n",
    "        else\n",
    "            return false\n",
    "        end\n",
    "    end\n",
    "end\n",
    "```\n",
    "\n",
    "```julia\n",
    "interlock(word_array, \"shoe\", \"cold\")\n",
    "\n",
    "true\n",
    "```\n",
    "\n",
    "```julia\n",
    "pairs = []\n",
    "for i in 1:length(words_array)\n",
    "    for j in i:length(words_array)\n",
    "        if interlock(words_array, words_array[i], words_array[j])\n",
    "            push!(pairs, words_array[i])\n",
    "            push!(pairs, words_array[j])\n",
    "        end\n",
    "    end\n",
    "end\n",
    "```"
   ]
  },
  {
   "cell_type": "markdown",
   "metadata": {},
   "source": [
    "But we can think about the problem in a reverse way. Define a function which determines whether a parent word can break up into two child words which interlock to form the parent. Then, we only need one loop over ```words_array```."
   ]
  },
  {
   "cell_type": "code",
   "execution_count": 46,
   "metadata": {},
   "outputs": [
    {
     "data": {
      "text/plain": [
       "isparent (generic function with 1 method)"
      ]
     },
     "execution_count": 46,
     "metadata": {},
     "output_type": "execute_result"
    }
   ],
   "source": [
    "function isparent(words_array, word)\n",
    "    if length(word) % 2 != 0\n",
    "        return [false, nothing, nothing]\n",
    "    else\n",
    "        word = collect(word)\n",
    "        child1 = \"\"\n",
    "        child2 = \"\"\n",
    "        for idx in 1:length(word)\n",
    "            if idx % 2 != 0\n",
    "                child1 = child1 * word[idx]\n",
    "            else\n",
    "                child2 = child2 * word[idx]\n",
    "            end\n",
    "        end\n",
    "        if inbisect(words_array, child1) && inbisect(words_array, child2)\n",
    "            return [true, child1, child2]\n",
    "        else\n",
    "            return [false, nothing, nothing]\n",
    "        end\n",
    "    end\n",
    "end"
   ]
  },
  {
   "cell_type": "code",
   "execution_count": 47,
   "metadata": {},
   "outputs": [],
   "source": [
    "pairs = []\n",
    "\n",
    "for word in words_array\n",
    "    result = isparent(words_array, word)\n",
    "    if result[1] == true\n",
    "        if result[2] ∉ pairs\n",
    "            push!(pairs, result[2])\n",
    "        end\n",
    "        if result[3] ∉ pairs\n",
    "            push!(pairs, result[3])\n",
    "        end\n",
    "    end\n",
    "end"
   ]
  },
  {
   "cell_type": "code",
   "execution_count": 48,
   "metadata": {},
   "outputs": [
    {
     "name": "stdout",
     "output_type": "stream",
     "text": [
      "ah\n",
      "as\n",
      "ar\n",
      "bi\n",
      "ay\n",
      "be\n",
      "ars\n",
      "cos\n",
      "arf\n",
      "dit\n",
      "aril\n",
      "doty\n",
      "ail\n",
      "fed\n",
      "are\n",
      "fet\n",
      "ai\n",
      "go\n",
      "ala\n",
      "gem\n",
      "ani\n",
      "gal\n",
      "ant\n",
      "gae\n",
      "ged\n",
      "ad\n",
      "is\n",
      "am\n",
      "an\n",
      "in\n",
      "it\n",
      "at\n",
      "aine\n",
      "lees\n",
      "all\n",
      "lee\n",
      "ale\n",
      "lid\n",
      "lis\n",
      "la\n",
      "ask\n",
      "lie\n",
      "lo\n",
      "ma\n",
      "me\n",
      "ain\n",
      "nos\n",
      "na\n",
      "any\n",
      "air\n",
      "pay\n",
      "alt\n",
      "pie\n",
      "ana\n",
      "pes\n",
      "pe\n",
      "res\n",
      "ais\n",
      "roe\n",
      "ret\n",
      "arse\n",
      "rete\n",
      "re\n",
      "act\n",
      "sos\n",
      "ass\n",
      "sit\n",
      "ta\n",
      "awe\n",
      "ten\n",
      "ut\n",
      "uit\n",
      "aal\n",
      "vis\n",
      "vas\n",
      "ae\n",
      "we\n",
      "amu\n",
      "wos\n",
      "ba\n",
      "bin\n",
      "brad\n",
      "amis\n",
      "burn\n",
      "ados\n",
      "by\n",
      "bals\n",
      "ekes\n",
      "em\n",
      "emes\n",
      "en\n",
      "er\n",
      "bad\n",
      "ers\n",
      "bat\n",
      "ess\n",
      "et\n",
      "ef\n",
      "es\n",
      "big\n",
      "ens\n",
      "bot\n",
      "ins\n",
      "bo\n",
      "boa\n",
      "its\n",
      "ban\n",
      "bet\n",
      "las\n",
      "bode\n",
      "lord\n",
      "buns\n",
      "bus\n",
      "let\n",
      "ley\n",
      "or\n",
      "ors\n",
      "os\n",
      "boo\n",
      "oho\n",
      "bolt\n",
      "okes\n",
      "om\n",
      "on\n",
      "bud\n",
      "ons\n",
      "bug\n",
      "bun\n",
      "ore\n",
      "bed\n",
      "ras\n",
      "rah\n",
      "bod\n",
      "bra\n",
      "use\n",
      "bred\n",
      "uses\n",
      "us\n",
      "yod\n",
      "clip\n",
      "aloe\n",
      "cue\n",
      "clue\n",
      "ells\n",
      "col\n",
      "can\n",
      "hie\n",
      "his\n",
      "car\n",
      "hut\n",
      "cere\n",
      "heir\n",
      "hoe\n",
      "hoy\n",
      "cog\n",
      "huh\n",
      "hue\n",
      "cam\n",
      "cat\n",
      "ops\n",
      "olds\n",
      "coy\n",
      "oes\n",
      "cols\n",
      "cons\n",
      "oles\n",
      "cob\n",
      "oms\n",
      "cot\n",
      "ole\n",
      "cuts\n",
      "ones\n",
      "cut\n",
      "cult\n",
      "opes\n",
      "cop\n",
      "rue\n",
      "dite\n",
      "anis\n",
      "die\n",
      "dui\n",
      "ate\n",
      "da\n",
      "el\n",
      "de\n",
      "dim\n",
      "dol\n",
      "id\n",
      "dee\n",
      "doe\n",
      "ids\n",
      "old\n",
      "dig\n",
      "ode\n",
      "do\n",
      "dols\n",
      "ores\n",
      "duns\n",
      "era\n",
      "alp\n",
      "ere\n",
      "and\n",
      "eft\n",
      "fee\n",
      "eh\n",
      "li\n",
      "eon\n",
      "egg\n",
      "nae\n",
      "els\n",
      "nit\n",
      "erg\n",
      "pa\n",
      "ern\n",
      "rad\n",
      "rat\n",
      "rig\n",
      "ye\n",
      "ya\n",
      "fil\n",
      "fins\n",
      "ares\n",
      "fa\n",
      "fat\n",
      "fit\n",
      "far\n",
      "ice\n",
      "fets\n",
      "leet\n",
      "fun\n",
      "fud\n",
      "fen\n",
      "ohs\n",
      "obe\n",
      "fie\n",
      "foe\n",
      "fry\n",
      "funs\n",
      "fens\n",
      "rees\n",
      "fer\n",
      "fez\n",
      "ree\n",
      "fir\n",
      "ray\n",
      "fin\n",
      "red\n",
      "fine\n",
      "redd\n",
      "fiz\n",
      "frig\n",
      "urns\n",
      "gie\n",
      "gnu\n",
      "age\n",
      "get\n",
      "gat\n",
      "gar\n",
      "lay\n",
      "got\n",
      "odd\n",
      "gals\n",
      "gig\n",
      "od\n",
      "of\n",
      "op\n",
      "gens\n",
      "ryes\n",
      "gone\n",
      "rudd\n",
      "gul\n",
      "ha\n",
      "he\n",
      "hi\n",
      "hae\n",
      "eld\n",
      "err\n",
      "has\n",
      "hat\n",
      "hit\n",
      "had\n",
      "ox\n",
      "ho\n",
      "holt\n",
      "into\n",
      "girn\n",
      "ifs\n",
      "net\n",
      "if\n",
      "no\n",
      "ills\n",
      "sees\n",
      "jut\n",
      "jee\n",
      "ka\n",
      "lat\n",
      "lag\n",
      "lug\n",
      "one\n",
      "mi\n",
      "mir\n",
      "mils\n",
      "ales\n",
      "mil\n",
      "mu\n",
      "mud\n",
      "my\n",
      "aa\n",
      "eke\n",
      "mols\n",
      "molt\n",
      "most\n",
      "oe\n",
      "mut\n",
      "mun\n",
      "mus\n",
      "ose\n",
      "nu\n",
      "nurl\n",
      "etas\n",
      "ora\n",
      "cee\n",
      "our\n",
      "eve\n",
      "ohms\n",
      "gait\n",
      "ohm\n",
      "gas\n",
      "ods\n",
      "oh\n",
      "oil\n",
      "pen\n",
      "aas\n",
      "pi\n",
      "pit\n",
      "pia\n",
      "pree\n",
      "aits\n",
      "pro\n",
      "art\n",
      "pals\n",
      "pal\n",
      "pee\n",
      "end\n",
      "ewe\n",
      "pea\n",
      "pac\n",
      "pad\n",
      "pan\n",
      "lit\n",
      "pat\n",
      "lyes\n",
      "ped\n",
      "pet\n",
      "pens\n",
      "loam\n",
      "pin\n",
      "pol\n",
      "poi\n",
      "pons\n",
      "pud\n",
      "pam\n",
      "per\n",
      "ram\n",
      "pis\n",
      "pams\n",
      "slit\n",
      "riot\n",
      "anus\n",
      "run\n",
      "opt\n",
      "rial\n",
      "unbe\n",
      "si\n",
      "sae\n",
      "cry\n",
      "shoe\n",
      "cold\n",
      "sin\n",
      "sop\n",
      "sot\n",
      "sure\n",
      "cris\n",
      "sals\n",
      "see\n",
      "sim\n",
      "sag\n",
      "sel\n",
      "ser\n",
      "set\n",
      "hah\n",
      "sen\n",
      "hes\n",
      "hey\n",
      "sec\n",
      "sir\n",
      "sis\n",
      "het\n",
      "sols\n",
      "haet\n",
      "sole\n",
      "hair\n",
      "sol\n",
      "hay\n",
      "so\n",
      "kae\n",
      "kas\n",
      "sere\n",
      "kris\n",
      "sod\n",
      "mair\n",
      "mas\n",
      "may\n",
      "sac\n",
      "nth\n",
      "sic\n",
      "nus\n",
      "sri\n",
      "sue\n",
      "suns\n",
      "sal\n",
      "sat\n",
      "pas\n",
      "sly\n",
      "sone\n",
      "pois\n",
      "pry\n",
      "pus\n",
      "sun\n",
      "pig\n",
      "sunn\n",
      "prig\n",
      "syn\n",
      "tis\n",
      "tas\n",
      "tan\n",
      "tat\n",
      "uns\n",
      "wis\n",
      "wry\n",
      "was\n",
      "way\n",
      "sets\n",
      "weet\n",
      "son\n",
      "wud\n",
      "til\n",
      "tils\n",
      "ti\n",
      "to\n",
      "tuns\n",
      "ates\n",
      "tae\n",
      "tree\n",
      "erns\n",
      "tar\n",
      "him\n",
      "term\n",
      "hoes\n",
      "tog\n",
      "tie\n",
      "toe\n",
      "ted\n",
      "tin\n",
      "tine\n",
      "rets\n",
      "tilt\n",
      "roes\n",
      "top\n",
      "tun\n",
      "bey\n",
      "un\n",
      "urn\n",
      "uke\n",
      "pep\n",
      "uta\n",
      "vins\n",
      "anes\n",
      "vie\n",
      "odes\n",
      "wit\n",
      "wans\n",
      "wad\n",
      "wae\n",
      "wee\n",
      "wide\n",
      "eros\n",
      "wet\n",
      "wen\n",
      "wo\n",
      "woe\n",
      "yid\n"
     ]
    }
   ],
   "source": [
    "for word in pairs\n",
    "    println(word)\n",
    "end"
   ]
  },
  {
   "cell_type": "markdown",
   "metadata": {},
   "source": [
    "2.  Can you find any words that are three-way interlocked (i.e., every third letter\n",
    "forms a word, starting from the first, second, or third letter)?\n",
    "\n",
    "    Sorry, I don't understand the question. :)"
   ]
  },
  {
   "cell_type": "code",
   "execution_count": null,
   "metadata": {},
   "outputs": [],
   "source": []
  }
 ],
 "metadata": {
  "kernelspec": {
   "display_name": "Julia 1.5.1",
   "language": "julia",
   "name": "julia-1.5"
  },
  "language_info": {
   "file_extension": ".jl",
   "mimetype": "application/julia",
   "name": "julia",
   "version": "1.5.2"
  }
 },
 "nbformat": 4,
 "nbformat_minor": 4
}
