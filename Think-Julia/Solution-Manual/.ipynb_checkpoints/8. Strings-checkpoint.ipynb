{
 "cells": [
  {
   "cell_type": "markdown",
   "metadata": {},
   "source": [
    "# Exercise"
   ]
  },
  {
   "cell_type": "markdown",
   "metadata": {},
   "source": [
    "## Exercise 8-1"
   ]
  },
  {
   "cell_type": "markdown",
   "metadata": {},
   "source": [
    "Write a function that takes a string as an argument and displays the letters backward, one per line."
   ]
  },
  {
   "cell_type": "code",
   "execution_count": 1,
   "metadata": {},
   "outputs": [
    {
     "data": {
      "text/plain": [
       "printbackward (generic function with 1 method)"
      ]
     },
     "execution_count": 1,
     "metadata": {},
     "output_type": "execute_result"
    }
   ],
   "source": [
    "function printbackward(str)\n",
    "    if str == \"\"\n",
    "        println(\"\")\n",
    "    else\n",
    "        idx = lastindex(str)\n",
    "        while idx >= 1\n",
    "            println(str[idx])\n",
    "            idx = prevind(str, idx)\n",
    "        end\n",
    "    end\n",
    "end"
   ]
  },
  {
   "cell_type": "code",
   "execution_count": 4,
   "metadata": {},
   "outputs": [
    {
     "name": "stdout",
     "output_type": "stream",
     "text": [
      "\n",
      "I\n",
      "o\n",
      "l\n",
      "l\n",
      "e\n",
      "H\n"
     ]
    }
   ],
   "source": [
    "printbackward(\"\")\n",
    "printbackward(\"I\")\n",
    "printbackward(\"Hello\")"
   ]
  },
  {
   "cell_type": "markdown",
   "metadata": {},
   "source": [
    "## Exercise 8-2"
   ]
  },
  {
   "cell_type": "markdown",
   "metadata": {},
   "source": [
    "The following example shows how to use concatenation (string multiplication) and a ```for``` loop to generate an abecedarian series (i.e., in alphabetical order). \n",
    "\n",
    "In Robert McCloskey's book *Make Way for Ducklings* (Puffin), the names of the ducklings are Jack, Kack, Lack, Mack, Nack, Ouack, Pack, and Quack. This loop outputs these names in order:\n",
    "\n",
    "```julia\n",
    "prefixes = \"JKLMNOPQ\"\n",
    "suffix = \"ack\"\n",
    "for letter in prefixes\n",
    "    println(letter * suffix)\n",
    "end\n",
    "```\n",
    "\n",
    "Although the output isn't quite right, because \"Ouack\" and \"Quack\" are misspelled:\n",
    "\n",
    "```\n",
    "Jack\n",
    "Kack\n",
    "Lack\n",
    "Mack\n",
    "Nack\n",
    "Oack\n",
    "Pack\n",
    "Qack\n",
    "```\n",
    "\n",
    "Modify the program to fix this error."
   ]
  },
  {
   "cell_type": "code",
   "execution_count": 7,
   "metadata": {},
   "outputs": [
    {
     "name": "stdout",
     "output_type": "stream",
     "text": [
      "Jack\n",
      "Kack\n",
      "Lack\n",
      "Mack\n",
      "Nack\n",
      "Ouack\n",
      "Pack\n",
      "Quack\n"
     ]
    }
   ],
   "source": [
    "prefixes = \"JKLMNOPQ\"\n",
    "suffix = \"ack\"\n",
    "for letter in prefixes\n",
    "    if letter == 'O' || letter == 'Q'    # Caution: letter here is a char!!!\n",
    "        println(letter * \"u\" * suffix)\n",
    "    else\n",
    "        println(letter * suffix)\n",
    "    end\n",
    "end"
   ]
  },
  {
   "cell_type": "markdown",
   "metadata": {},
   "source": [
    "## Exercise 8-3"
   ]
  },
  {
   "cell_type": "markdown",
   "metadata": {},
   "source": [
    "Continuing this example, what do you think ```str[:]``` means? Try it and see."
   ]
  },
  {
   "cell_type": "code",
   "execution_count": 15,
   "metadata": {},
   "outputs": [
    {
     "name": "stdout",
     "output_type": "stream",
     "text": [
      "Julius Caesar\n"
     ]
    }
   ],
   "source": [
    "str = \"Julius Caesar\"\n",
    "println(str[:])"
   ]
  },
  {
   "cell_type": "markdown",
   "metadata": {},
   "source": [
    "Thus, ```str[:]``` means selecting the string ```str``` itself, instead of a part of it."
   ]
  },
  {
   "cell_type": "markdown",
   "metadata": {},
   "source": [
    "## Exercise 8-4"
   ]
  },
  {
   "cell_type": "markdown",
   "metadata": {},
   "source": [
    "```julia\n",
    "function find(word, letter)\n",
    "    index = firstindex(word)\n",
    "    while index <= sizeof(word)\n",
    "        if word[index] == letter\n",
    "            return index\n",
    "        end\n",
    "        index = nextind(word, index)\n",
    "    end\n",
    "    return -1\n",
    "end\n",
    "```\n",
    "\n",
    "Modify ```find``` so that it has a third parameter, the index in ```word``` where it should start looking."
   ]
  },
  {
   "cell_type": "code",
   "execution_count": 27,
   "metadata": {},
   "outputs": [
    {
     "data": {
      "text/plain": [
       "find (generic function with 3 methods)"
      ]
     },
     "execution_count": 27,
     "metadata": {},
     "output_type": "execute_result"
    }
   ],
   "source": [
    "function find(word, letter, start=firstindex(word), stop=lastindex(word))\n",
    "    found = -1\n",
    "    index = start - 1\n",
    "    while index <= (stop-1)\n",
    "        index = nextind(word, index)\n",
    "        if word[index] == letter\n",
    "            found = 1\n",
    "            break\n",
    "        end\n",
    "    end\n",
    "    if found == -1\n",
    "        index = -1\n",
    "    end\n",
    "    return index\n",
    "end\n",
    "        "
   ]
  },
  {
   "cell_type": "code",
   "execution_count": 32,
   "metadata": {
    "scrolled": true
   },
   "outputs": [
    {
     "name": "stdout",
     "output_type": "stream",
     "text": [
      "5\n",
      "1\n",
      "-1\n",
      "9\n"
     ]
    }
   ],
   "source": [
    "println(find(\"Hello\", 'o'))\n",
    "println(find(\" \", ' '))\n",
    "println(find(\"\", ' '))\n",
    "println(find(\"🍎🍌🍐\", '🍐'))"
   ]
  },
  {
   "cell_type": "markdown",
   "metadata": {},
   "source": [
    "## Exercise 8-5"
   ]
  },
  {
   "cell_type": "markdown",
   "metadata": {},
   "source": [
    "The following program counts the number of times the letter a appears in a string:\n",
    "\n",
    "```julia\n",
    "word = \"banana\"\n",
    "counter = 0\n",
    "for letter in word\n",
    "    if letter == 'a'\n",
    "        global counter = counter + 1\n",
    "    end\n",
    "end\n",
    "println(counter)\n",
    "```\n",
    "\n",
    "This program demonstrates another pattern of computation called a **counter**. The variable counter is initialized to ```0``` and then incremented each time an ```a``` is found. When the loop exits, counter contains the result—the total number of ```a```'s.\n",
    "\n",
    "Encapsulate this code in a function named ```count```, and generalize it so that it accepts\n",
    "the string and the letter as arguments. Then rewrite the function so that instead of traversing the string, it uses the three-parameter version of ```find``` from the previous section."
   ]
  },
  {
   "cell_type": "code",
   "execution_count": 37,
   "metadata": {},
   "outputs": [
    {
     "data": {
      "text/plain": [
       "count (generic function with 3 methods)"
      ]
     },
     "execution_count": 37,
     "metadata": {},
     "output_type": "execute_result"
    }
   ],
   "source": [
    "function count(str, pattern, start = firstindex(str), stop = lastindex(str))\n",
    "    counter = 0\n",
    "    if pattern != \"\" && str != \"\"\n",
    "        idx_str = nextind(str, start-1)\n",
    "        while idx_str <= stop\n",
    "            idx_pat = 1\n",
    "            equal = -1\n",
    "            idx_str_temp = idx_str\n",
    "            while idx_pat <= lastindex(pattern)\n",
    "                if str[idx_str_temp] != pattern[idx_pat]\n",
    "                    equal = -1\n",
    "                    break\n",
    "                else\n",
    "                    idx_str_temp = nextind(str, idx_str_temp)\n",
    "                    idx_pat = nextind(pattern, idx_pat)\n",
    "                    equal = 1\n",
    "                end\n",
    "            end\n",
    "            if equal == 1\n",
    "                counter = counter + 1\n",
    "            end\n",
    "            idx_str = nextind(str, idx_str)\n",
    "        end\n",
    "    end\n",
    "    return counter\n",
    "end"
   ]
  },
  {
   "cell_type": "code",
   "execution_count": 38,
   "metadata": {},
   "outputs": [
    {
     "data": {
      "text/plain": [
       "1"
      ]
     },
     "execution_count": 38,
     "metadata": {},
     "output_type": "execute_result"
    }
   ],
   "source": [
    "count(\"a\", \"a\")"
   ]
  },
  {
   "cell_type": "code",
   "execution_count": 39,
   "metadata": {},
   "outputs": [
    {
     "data": {
      "text/plain": [
       "3"
      ]
     },
     "execution_count": 39,
     "metadata": {},
     "output_type": "execute_result"
    }
   ],
   "source": [
    "count(\"abcdefgabcdefgabcdefg\", \"abc\")"
   ]
  },
  {
   "cell_type": "code",
   "execution_count": 40,
   "metadata": {},
   "outputs": [
    {
     "data": {
      "text/plain": [
       "2"
      ]
     },
     "execution_count": 40,
     "metadata": {},
     "output_type": "execute_result"
    }
   ],
   "source": [
    "count(\"🍎🍌🍎🍐\", \"🍎\")"
   ]
  },
  {
   "cell_type": "code",
   "execution_count": 41,
   "metadata": {},
   "outputs": [
    {
     "data": {
      "text/plain": [
       "0"
      ]
     },
     "execution_count": 41,
     "metadata": {},
     "output_type": "execute_result"
    }
   ],
   "source": [
    "count(\"\", \"\")"
   ]
  },
  {
   "cell_type": "markdown",
   "metadata": {},
   "source": [
    "## Exercise 8-6"
   ]
  },
  {
   "cell_type": "markdown",
   "metadata": {},
   "source": [
    "*When you use indices to traverse the values in a sequence, it is tricky to get the begin‐\n",
    "ning and end of the traversal right.* Here is a function that is supposed to compare\n",
    "two words and return true if one of the words is the reverse of the other, but it con‐\n",
    "tains two errors:\n",
    "\n",
    "```julia\n",
    "function isreverse(word1, word2)\n",
    "    if length(word1) != length(word2)\n",
    "        return false\n",
    "    end\n",
    "    i = firstindex(word1)\n",
    "    j = lastindex(word2)\n",
    "    while j >= 0\n",
    "        j = prevind(word2, j)\n",
    "        if word1[i] != word2[j]\n",
    "             return false\n",
    "        end\n",
    "        i = nextind(word1, i)\n",
    "    end\n",
    "    true\n",
    "end\n",
    "```\n",
    "\n",
    "The first ```if``` statement checks whether the words are the same length. If not, we can\n",
    "return ```false``` immediately. Otherwise, for the rest of the function, we can assume that\n",
    "the words are the same length. This is an example of the guardian pattern.\n",
    "\n",
    "```i``` and ```j``` are indices: ```i``` traverses ```word1``` forward while ```j``` traverses ```word2``` backward. If we find two letters that don’t match, we can return ```false``` immediately. If we get through the whole loop and all the letters match, we return ```true```.\n",
    "\n",
    "The function ```lastindex``` returns the last valid byte index of a string and ```prevind```\n",
    "finds the previous valid index of a character.\n",
    "\n",
    "If we test this function with the words \"pots\" and \"stop\", we expect the return value ```true```, but we get ```false```:\n",
    "\n",
    "```julia\n",
    "julia> isreverse(\"pots\", \"stop\")\n",
    "false\n",
    "```\n",
    "\n",
    "For debugging this kind of error, my first move is to print the values of the indices:\n",
    "\n",
    "```julia\n",
    "while j >= 0\n",
    "    j = prevind(word2, j)\n",
    "    @show i j\n",
    "    if word1[i] != word2[j]\n",
    "...\n",
    "```\n",
    "\n",
    "Now when I run the program again, I get more information:\n",
    "\n",
    "```\n",
    "julia> isreverse(\"pots\", \"stop\")\n",
    "i = 1\n",
    "j = 3\n",
    "false\n",
    "```\n",
    "\n",
    "The first time through the loop, the value of ```j``` is ```3```, but it has to be ```4```. This can be fixed by moving ```j = prevind(word2, j)``` to the end of the while loop.\n",
    "\n",
    "If I fix that error and run the program again, I get:\n",
    "\n",
    "```julia\n",
    "julia> isreverse(\"pots\", \"stop\")\n",
    "i = 1\n",
    "j = 4\n",
    "i = 2\n",
    "j = 3\n",
    "i = 3\n",
    "j = 2\n",
    "i = 4\n",
    "j = 1\n",
    "i = 5\n",
    "j = 0\n",
    "ERROR: BoundsError: attempt to access \"pots\" at index [5]\n",
    "```\n",
    "\n",
    "This time a BoundsError has been thrown. The value of i is 5, which is out of range\n",
    "for the string \"pots\".\n",
    "\n",
    "Find and fix the second error in this function."
   ]
  },
  {
   "cell_type": "code",
   "execution_count": 1,
   "metadata": {},
   "outputs": [
    {
     "data": {
      "text/plain": [
       "isreverse (generic function with 1 method)"
      ]
     },
     "execution_count": 1,
     "metadata": {},
     "output_type": "execute_result"
    }
   ],
   "source": [
    "function isreverse(word1, word2)\n",
    "    if length(word1) != length(word2)\n",
    "        return false\n",
    "    else\n",
    "        i = firstindex(word1)\n",
    "        j = lastindex(word2)\n",
    "        while j >= 1\n",
    "            if word1[i] != word2[j]\n",
    "                 return false\n",
    "            else\n",
    "                i = nextind(word1, i)\n",
    "                j = prevind(word2, j)\n",
    "            end\n",
    "        end\n",
    "        return true\n",
    "    end\n",
    "end     "
   ]
  },
  {
   "cell_type": "code",
   "execution_count": 2,
   "metadata": {},
   "outputs": [
    {
     "data": {
      "text/plain": [
       "true"
      ]
     },
     "execution_count": 2,
     "metadata": {},
     "output_type": "execute_result"
    }
   ],
   "source": [
    "isreverse(\"pots\", \"stop\")"
   ]
  },
  {
   "cell_type": "markdown",
   "metadata": {},
   "source": [
    "## Exercise 8-7"
   ]
  },
  {
   "cell_type": "markdown",
   "metadata": {},
   "source": [
    "Read the [documentation of the string functions](https://docs.julialang.org/en/v1/manual/strings/). You might want to experiment with some of them to make sure you understand how they work. ```strip``` and ```replace``` are particularly useful.\n",
    "\n",
    "The documentation uses a syntax that might be confusing. For example, in ```search(string::AbstractString, chars::Chars, [start::Integer])```, the brackets indicate optional arguments. So, ```string``` and ```chars``` are required, but ```start``` is optional.\n"
   ]
  },
  {
   "cell_type": "markdown",
   "metadata": {},
   "source": [
    "### ```strip```"
   ]
  },
  {
   "cell_type": "markdown",
   "metadata": {},
   "source": [
    "#### Usage"
   ]
  },
  {
   "cell_type": "markdown",
   "metadata": {},
   "source": [
    "```\n",
    "strip([pred=isspace,] str::AbstractString) -> SubString\n",
    "strip(str::AbstractString, chars) -> SubString\n",
    "```\n",
    "\n",
    "Remove leading and trailing characters from ```str```, either those specified by ```chars``` or those for which the function ```pred``` returns true.\n",
    "\n",
    "The default behaviour is to remove leading whitespace and delimiters: see [```isspace```](https://docs.julialang.org/en/v1/base/strings/#Base.Unicode.isspace) for precise details.\n",
    "\n",
    "The optional ```chars``` argument specifies which characters to remove: it can be a single character, vector or set of characters."
   ]
  },
  {
   "cell_type": "markdown",
   "metadata": {},
   "source": [
    "#### Examples"
   ]
  },
  {
   "cell_type": "code",
   "execution_count": 3,
   "metadata": {},
   "outputs": [
    {
     "data": {
      "text/plain": [
       "\"3, 5\""
      ]
     },
     "execution_count": 3,
     "metadata": {},
     "output_type": "execute_result"
    }
   ],
   "source": [
    "strip(\"{3, 5}\\n\", ['{', '}', '\\n'])"
   ]
  },
  {
   "cell_type": "code",
   "execution_count": 5,
   "metadata": {},
   "outputs": [
    {
     "data": {
      "text/plain": [
       "\"Strip all whitespaces\""
      ]
     },
     "execution_count": 5,
     "metadata": {},
     "output_type": "execute_result"
    }
   ],
   "source": [
    "strip(\" Strip all whitespaces \")"
   ]
  },
  {
   "cell_type": "markdown",
   "metadata": {},
   "source": [
    "### ```replace```"
   ]
  },
  {
   "cell_type": "markdown",
   "metadata": {},
   "source": [
    "#### Usage"
   ]
  },
  {
   "cell_type": "markdown",
   "metadata": {},
   "source": [
    "```\n",
    "replace(s::AbstractString, pat=>r; [count::Integer])\n",
    "```\n",
    "\n",
    "Search for the given pattern ```pat``` in ```s```, and replace each occurrence with ```r```. If ```count``` is provided, replace at most count occurrences. ```pat``` may be a single character, a vector or a set of characters, a string, or a regular expression. If ```r``` is a function, each occurrence is replaced with ```r(s)``` where ```s``` is the matched substring (when ```pat``` is a Regex or AbstractString) or character (when ```pat``` is an AbstractChar or a collection of AbstractChar). If ```pat``` is a regular expression and ```r``` is a SubstitutionString, then capture group references in ```r``` are replaced with the corresponding matched text. To remove instances of ```pat``` from string, set ```r``` to the empty String (```\"\"```)."
   ]
  },
  {
   "cell_type": "markdown",
   "metadata": {},
   "source": [
    "#### Examples"
   ]
  },
  {
   "cell_type": "code",
   "execution_count": 7,
   "metadata": {},
   "outputs": [
    {
     "data": {
      "text/plain": [
       "\"Julia is a programming language.\""
      ]
     },
     "execution_count": 7,
     "metadata": {},
     "output_type": "execute_result"
    }
   ],
   "source": [
    "replace(\"Python is a programming language.\", \"Python\" => \"Julia\")"
   ]
  },
  {
   "cell_type": "code",
   "execution_count": 8,
   "metadata": {},
   "outputs": [
    {
     "data": {
      "text/plain": [
       "\"The slow foxes run quickly.\""
      ]
     },
     "execution_count": 8,
     "metadata": {},
     "output_type": "execute_result"
    }
   ],
   "source": [
    "replace(\"The quick foxes run quickly.\", \"quick\" => \"slow\", count=1)"
   ]
  },
  {
   "cell_type": "code",
   "execution_count": 11,
   "metadata": {},
   "outputs": [
    {
     "data": {
      "text/plain": [
       "\"The  foxes run quickly.\""
      ]
     },
     "execution_count": 11,
     "metadata": {},
     "output_type": "execute_result"
    }
   ],
   "source": [
    "replace(\"The quick foxes run quickly.\", \"quick\" => \"\", count=1)"
   ]
  },
  {
   "cell_type": "code",
   "execution_count": 12,
   "metadata": {},
   "outputs": [
    {
     "data": {
      "text/plain": [
       "\"The quick buses run quickly.\""
      ]
     },
     "execution_count": 12,
     "metadata": {},
     "output_type": "execute_result"
    }
   ],
   "source": [
    "replace(\"The quick foxes run quickly.\", r\"fox(es)?\" => s\"bus\\1\")"
   ]
  },
  {
   "cell_type": "markdown",
   "metadata": {},
   "source": [
    "## Exercise 8-8"
   ]
  },
  {
   "cell_type": "markdown",
   "metadata": {},
   "source": [
    "There is a built-in function called ```count``` that is similar to the function in “Looping\n",
    "and Counting” on page 93. Read [the documentation of this function](https://docs.julialang.org/en/v1/base/collections/#Base.count) and use it to\n",
    "count the number of ```a```'s in ```\"banana\"```.\n"
   ]
  },
  {
   "cell_type": "markdown",
   "metadata": {},
   "source": [
    "### Usage 1"
   ]
  },
  {
   "cell_type": "markdown",
   "metadata": {},
   "source": [
    "```\n",
    "count(p, itr) -> Integer\n",
    "count(itr) -> Integer\n",
    "```\n",
    "\n",
    "Count the number of elements in ```itr``` for which predicate ```p``` returns ```true```. If ```p``` is omitted, counts the number of true elements in ```itr``` (which should be a collection of boolean values)."
   ]
  },
  {
   "cell_type": "markdown",
   "metadata": {},
   "source": [
    "#### Examples"
   ]
  },
  {
   "cell_type": "code",
   "execution_count": 13,
   "metadata": {},
   "outputs": [
    {
     "data": {
      "text/plain": [
       "3"
      ]
     },
     "execution_count": 13,
     "metadata": {},
     "output_type": "execute_result"
    }
   ],
   "source": [
    "count(i->(4<=i<=6), [2,3,4,5,6])"
   ]
  },
  {
   "cell_type": "code",
   "execution_count": 14,
   "metadata": {},
   "outputs": [
    {
     "data": {
      "text/plain": [
       "3"
      ]
     },
     "execution_count": 14,
     "metadata": {},
     "output_type": "execute_result"
    }
   ],
   "source": [
    "count([true, false, true, true])"
   ]
  },
  {
   "cell_type": "markdown",
   "metadata": {},
   "source": [
    "### Usage 2"
   ]
  },
  {
   "cell_type": "markdown",
   "metadata": {},
   "source": [
    "```\n",
    "count(\n",
    "    pattern::Union{AbstractString,Regex},\n",
    "    string::AbstractString;\n",
    "    overlap::Bool = false,\n",
    ")\n",
    "```\n",
    "\n",
    "Return the number of matches for ```pattern``` in ```string```. This is equivalent to calling ```length(findall(pattern, string))``` but more efficient.\n",
    "\n",
    "If ```overlap=true```, the matching sequences are allowed to overlap indices in the original string, otherwise they must be from disjoint character ranges."
   ]
  },
  {
   "cell_type": "markdown",
   "metadata": {},
   "source": [
    "#### Examples"
   ]
  },
  {
   "cell_type": "code",
   "execution_count": 15,
   "metadata": {},
   "outputs": [
    {
     "data": {
      "text/plain": [
       "3"
      ]
     },
     "execution_count": 15,
     "metadata": {},
     "output_type": "execute_result"
    }
   ],
   "source": [
    "count(\"a\", \"banana\")"
   ]
  },
  {
   "cell_type": "markdown",
   "metadata": {},
   "source": [
    "### Usage 3"
   ]
  },
  {
   "cell_type": "markdown",
   "metadata": {},
   "source": [
    "```\n",
    "count([f=identity,] A::AbstractArray; dims=:)\n",
    "```\n",
    "\n",
    "Count the number of elements in ```A``` for which ```f``` returns ```true``` over the given dimensions."
   ]
  },
  {
   "cell_type": "code",
   "execution_count": 16,
   "metadata": {},
   "outputs": [
    {
     "name": "stdout",
     "output_type": "stream",
     "text": [
      "[1 2; 3 4]\n",
      "[1 1]\n",
      "[2; 0]\n"
     ]
    }
   ],
   "source": [
    "A = [1 2; 3 4]\n",
    "println(A)\n",
    "println(count(<=(2), A, dims=1))\n",
    "println(count(<=(2), A, dims=2))"
   ]
  },
  {
   "cell_type": "markdown",
   "metadata": {},
   "source": [
    "## Exercise 8-9"
   ]
  },
  {
   "cell_type": "markdown",
   "metadata": {},
   "source": [
    "A string slice can take a third index. The first specifies the start, the third the end, and\n",
    "the second the \"step size\"; that is, the number of spaces between successive characters. A step size of ```2``` means every other character; ```3``` means every third, etc. For example:\n",
    "\n",
    "```julia\n",
    "julia> fruit = \"banana\"\n",
    "\"banana\"\n",
    "julia> fruit[1:2:6]\n",
    "\"bnn\"\n",
    "```\n",
    "\n",
    "A step size of ```-1``` goes through the word backward, so the slice ```[end:-1:1]``` generates a reversed string. \n",
    "\n",
    "Use this idiom to write a one-line version of ```ispalindrome``` from “Exercise 6-6” on\n",
    "page 75."
   ]
  },
  {
   "cell_type": "markdown",
   "metadata": {},
   "source": [
    "```julia\n",
    "str[begin:1:end] == str[end:-1:begin]    # str should not be empty.\n",
    "```"
   ]
  },
  {
   "cell_type": "markdown",
   "metadata": {},
   "source": [
    "## Exercise 8-10"
   ]
  },
  {
   "cell_type": "markdown",
   "metadata": {},
   "source": [
    "The following functions are all intended to check whether a string contains any lowercase letters, but at least some of them are wrong. For each function, describe what the function actually does (assuming that the parameter is a string).\n",
    "\n",
    "```julia\n",
    "function anylowercase1(s)\n",
    "    for c in s\n",
    "        if islowercase(c)\n",
    "            return true\n",
    "        else\n",
    "            return false\n",
    "        end\n",
    "    end\n",
    "end\n",
    "```\n",
    "\n",
    "```anylowercase1``` actually checks whether the first letter of ```s``` is lowercase (```true```) or not (```false```).\n",
    "\n",
    "```julia\n",
    "function anylowercase2(s)\n",
    "    for c in s\n",
    "        if islowercase('c')\n",
    "            return \"true\"\n",
    "        else\n",
    "            return \"false\"\n",
    "        end\n",
    "    end\n",
    "end\n",
    "```\n",
    "\n",
    "There are two mistakes ```anylowercase2``` has made. \n",
    "1. It always checks whether ```'c'``` is lowercase or not.\n",
    "2. The type of the return value is String instead of Boolean.\n",
    "\n",
    "```julia\n",
    "function anylowercase3(s)\n",
    "    for c in s\n",
    "        flag = islowercase(c)\n",
    "    end\n",
    "    flag\n",
    "end\n",
    "```\n",
    "\n",
    "This function (```anylowercase3```) only checks the last letter of ```s```.\n",
    "\n",
    "```julia\n",
    "function anylowercase4(s)\n",
    "    flag = false\n",
    "    for c in s\n",
    "        flag = flag || islowercase(c)\n",
    "    end\n",
    "    flag\n",
    "end\n",
    "```\n",
    "\n",
    "Something is wrong with the or (```||```) operation. For example, if some ```c```, say, the first letter of ```s```, is lowercase, then ```flag``` becomes ```true```. As for letters after, the operation ```flag || islowercase(c)``` always returns ```true```. Thus, as long as there is one lowercase letter in ```s```, the function returns ```true```. Otherwise, it returns ```false```.\n",
    "\n",
    "```julia\n",
    "function anylowercase5(s)\n",
    "    for c in s\n",
    "        if !islowercase(c)\n",
    "            return false\n",
    "        end\n",
    "    end\n",
    "    true\n",
    "end\n",
    "```\n",
    "\n",
    "This function is correct. If there is one letter in ```s``` is not lowercase (so it is uppercase), the function returns ```false```. On the opposite, if all letter are lowercase, then it returns ```true```."
   ]
  },
  {
   "cell_type": "markdown",
   "metadata": {},
   "source": [
    "## Exercise 8-11"
   ]
  },
  {
   "cell_type": "markdown",
   "metadata": {},
   "source": [
    "A Caesar cypher is a weak form of encryption that involves “rotating” each letter by a\n",
    "fixed number of places. To rotate a letter means to shift it through the alphabet, wrapping around to the beginning if necessary, so ```A``` rotated by $3$ is ```D``` and ```Z``` rotated by $1$ is ```A```.\n",
    "\n",
    "To rotate a word, rotate each letter by the same amount. For example, ```\"cheer\"``` rotated by $7$ is ```\"jolly\"```, and ```\"melon\"``` rotated by $–10$ is ```\"cubed\"```. In the movie *2001: A Space Odyssey*, the ship's computer is called \"HAL\", which is \"IBM\" rotated by $–1$. Write a function called ```rotateword``` that takes a string and an integer as parameters, and returns a new string that contains the letters from the original string rotated by the given amount."
   ]
  },
  {
   "cell_type": "code",
   "execution_count": 36,
   "metadata": {},
   "outputs": [
    {
     "data": {
      "text/plain": [
       "rotateword (generic function with 1 method)"
      ]
     },
     "execution_count": 36,
     "metadata": {},
     "output_type": "execute_result"
    }
   ],
   "source": [
    "function rotateword(str, int)\n",
    "    # Int('A') = 65\n",
    "    # Int('Z') = 90\n",
    "    # Int('a') = 97\n",
    "    # Int('z') = 122\n",
    "    rotated_word = \"\"\n",
    "    for letter in str\n",
    "        rotated_idx = Int(letter) + int\n",
    "        # make corrections\n",
    "        if islowercase(letter)\n",
    "            while rotated_idx > 122\n",
    "                rotated_idx = rotated_idx - 26\n",
    "            end\n",
    "            while rotated_idx < 97\n",
    "                rotated_idx = rotated_idx + 26\n",
    "            end\n",
    "        else\n",
    "            while rotated_idx > 90\n",
    "                rotated_idx = rotated_idx - 26\n",
    "            end\n",
    "            while rotated_idx < 65\n",
    "                rotated_idx = rotated_idx + 26\n",
    "            end\n",
    "        end\n",
    "        rotated_letter = Char(rotated_idx)\n",
    "        rotated_word = rotated_word * rotated_letter\n",
    "    end\n",
    "    return rotated_word\n",
    "end"
   ]
  },
  {
   "cell_type": "code",
   "execution_count": 38,
   "metadata": {},
   "outputs": [
    {
     "name": "stdout",
     "output_type": "stream",
     "text": [
      "jolly\n",
      "cubed\n",
      "IBM\n"
     ]
    }
   ],
   "source": [
    "println(rotateword(\"cheer\", 7))\n",
    "println(rotateword(\"melon\", -10))\n",
    "println(rotateword(\"HAL\", 1))"
   ]
  }
 ],
 "metadata": {
  "kernelspec": {
   "display_name": "Julia 1.5.2",
   "language": "julia",
   "name": "julia-1.5"
  },
  "language_info": {
   "file_extension": ".jl",
   "mimetype": "application/julia",
   "name": "julia",
   "version": "1.5.2"
  }
 },
 "nbformat": 4,
 "nbformat_minor": 4
}
