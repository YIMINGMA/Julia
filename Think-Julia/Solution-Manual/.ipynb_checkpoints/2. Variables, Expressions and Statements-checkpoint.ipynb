{
 "cells": [
  {
   "cell_type": "markdown",
   "metadata": {},
   "source": [
    "# Exercises"
   ]
  },
  {
   "cell_type": "markdown",
   "metadata": {},
   "source": [
    "## Exercise 2-1"
   ]
  },
  {
   "cell_type": "markdown",
   "metadata": {},
   "source": [
    "To check your understanding, type the following statements in the Julia REPL and see what they do:\n",
    "```\n",
    "5\n",
    "x = 5\n",
    "x + 1\n",
    "```"
   ]
  },
  {
   "cell_type": "code",
   "execution_count": 22,
   "metadata": {},
   "outputs": [
    {
     "data": {
      "text/plain": [
       "5"
      ]
     },
     "execution_count": 22,
     "metadata": {},
     "output_type": "execute_result"
    }
   ],
   "source": [
    "5"
   ]
  },
  {
   "cell_type": "code",
   "execution_count": 23,
   "metadata": {},
   "outputs": [
    {
     "data": {
      "text/plain": [
       "5"
      ]
     },
     "execution_count": 23,
     "metadata": {},
     "output_type": "execute_result"
    }
   ],
   "source": [
    "x = 5"
   ]
  },
  {
   "cell_type": "code",
   "execution_count": 24,
   "metadata": {},
   "outputs": [
    {
     "data": {
      "text/plain": [
       "6"
      ]
     },
     "execution_count": 24,
     "metadata": {},
     "output_type": "execute_result"
    }
   ],
   "source": [
    "x + 1"
   ]
  },
  {
   "cell_type": "markdown",
   "metadata": {},
   "source": [
    "## Exercise 2-2"
   ]
  },
  {
   "cell_type": "markdown",
   "metadata": {},
   "source": [
    "Repeating my advice from the previous chapter, whenever you learn a new feature, you should try it out in interactive mode and make errors on purpose to see what goes wrong.\n",
    "\n",
    "1. We’ve seen that ```n = 42``` is legal. What about ```42 = n```?"
   ]
  },
  {
   "cell_type": "code",
   "execution_count": 28,
   "metadata": {},
   "outputs": [
    {
     "ename": "LoadError",
     "evalue": "syntax: invalid assignment location \"42\" around In[28]:1",
     "output_type": "error",
     "traceback": [
      "syntax: invalid assignment location \"42\" around In[28]:1",
      "",
      "Stacktrace:",
      " [1] top-level scope at In[28]:1",
      " [2] include_string(::Function, ::Module, ::String, ::String) at .\\loading.jl:1091"
     ]
    }
   ],
   "source": [
    "42 = n"
   ]
  },
  {
   "cell_type": "markdown",
   "metadata": {},
   "source": [
    "2. How about ```x = y = 1```?"
   ]
  },
  {
   "cell_type": "code",
   "execution_count": 29,
   "metadata": {},
   "outputs": [
    {
     "data": {
      "text/plain": [
       "1"
      ]
     },
     "execution_count": 29,
     "metadata": {},
     "output_type": "execute_result"
    }
   ],
   "source": [
    "x = y = 1"
   ]
  },
  {
   "cell_type": "markdown",
   "metadata": {},
   "source": [
    "3. In some languages every statement ends with a semi-colon, ```;```. What happens if you put a semi-colon at the end of a Julia statement?"
   ]
  },
  {
   "cell_type": "code",
   "execution_count": 30,
   "metadata": {},
   "outputs": [],
   "source": [
    "x = 1;"
   ]
  },
  {
   "cell_type": "markdown",
   "metadata": {},
   "source": [
    "4. What if you put a period at the end of a statement?"
   ]
  },
  {
   "cell_type": "code",
   "execution_count": 31,
   "metadata": {},
   "outputs": [
    {
     "ename": "LoadError",
     "evalue": "syntax: incomplete: premature end of input",
     "output_type": "error",
     "traceback": [
      "syntax: incomplete: premature end of input",
      "",
      "Stacktrace:",
      " [1] top-level scope at In[31]:1",
      " [2] include_string(::Function, ::Module, ::String, ::String) at .\\loading.jl:1091"
     ]
    }
   ],
   "source": [
    "x = \"Hello, Julia\"."
   ]
  },
  {
   "cell_type": "markdown",
   "metadata": {},
   "source": [
    "5. In math notation you can multiply ```x``` and ```y``` like this: ```x y```. What happens if you try that in Julia? What about ```5x```?"
   ]
  },
  {
   "cell_type": "code",
   "execution_count": 32,
   "metadata": {},
   "outputs": [
    {
     "data": {
      "text/plain": [
       "5"
      ]
     },
     "execution_count": 32,
     "metadata": {},
     "output_type": "execute_result"
    }
   ],
   "source": [
    "x = 1\n",
    "5x"
   ]
  },
  {
   "cell_type": "code",
   "execution_count": 33,
   "metadata": {},
   "outputs": [
    {
     "ename": "LoadError",
     "evalue": "MethodError: no method matching *(::Int64, ::String)\nClosest candidates are:\n  *(::Any, ::Any, !Matched::Any, !Matched::Any...) at operators.jl:538\n  *(!Matched::Missing, ::AbstractString) at missing.jl:174\n  *(::T, !Matched::T) where T<:Union{Int128, Int16, Int32, Int64, Int8, UInt128, UInt16, UInt32, UInt64, UInt8} at int.jl:87\n  ...",
     "output_type": "error",
     "traceback": [
      "MethodError: no method matching *(::Int64, ::String)\nClosest candidates are:\n  *(::Any, ::Any, !Matched::Any, !Matched::Any...) at operators.jl:538\n  *(!Matched::Missing, ::AbstractString) at missing.jl:174\n  *(::T, !Matched::T) where T<:Union{Int128, Int16, Int32, Int64, Int8, UInt128, UInt16, UInt32, UInt64, UInt8} at int.jl:87\n  ...",
      "",
      "Stacktrace:",
      " [1] top-level scope at In[33]:2",
      " [2] include_string(::Function, ::Module, ::String, ::String) at .\\loading.jl:1091"
     ]
    }
   ],
   "source": [
    "x = \"test\"\n",
    "5x"
   ]
  },
  {
   "cell_type": "markdown",
   "metadata": {},
   "source": [
    "## Exercise 2-3"
   ]
  },
  {
   "cell_type": "markdown",
   "metadata": {},
   "source": [
    "Practice using the Julia REPL as a calculator:\n",
    "\n",
    "1. The volume of a sphere with radius ```r``` is $\\frac{4\\pi r^3}{3}$. What is the volume of a sphere with radius ```5```?"
   ]
  },
  {
   "cell_type": "code",
   "execution_count": 1,
   "metadata": {},
   "outputs": [
    {
     "name": "stdout",
     "output_type": "stream",
     "text": [
      "523.5987755982987\n"
     ]
    }
   ],
   "source": [
    "r = 5;\n",
    "volume = (4/3) * (π * r^3);\n",
    "println(volume)"
   ]
  },
  {
   "cell_type": "markdown",
   "metadata": {},
   "source": [
    "2. Suppose the cover price of a book is $\\$ 24.95$, but bookstores get a $40\\%$ discount. Shipping costs $\\$ 3$ for the first copy and $75$ cents for each additional copy. What is the total wholesale cost for $60$ copies?"
   ]
  },
  {
   "cell_type": "code",
   "execution_count": 2,
   "metadata": {},
   "outputs": [
    {
     "name": "stdout",
     "output_type": "stream",
     "text": [
      "945.4499999999999\n"
     ]
    }
   ],
   "source": [
    "num_books = 60\n",
    "cover_price = 24.95\n",
    "discount = 0.4\n",
    "discount_price = cover_price * (1-discount)\n",
    "book_cost = num_books * discount_price\n",
    "first_shipping_cost = 3\n",
    "rest_shipping_cost = 0.75 * (num_books-1)\n",
    "shipping_cost = first_shipping_cost + rest_shipping_cost\n",
    "total_cost = book_cost + shipping_cost\n",
    "println(total_cost)"
   ]
  },
  {
   "cell_type": "markdown",
   "metadata": {},
   "source": [
    "3. If I leave my house at $6:52$ am and run $1$ mile at an easy pace ($8:15$ per mile), then $3$ miles at tempo ($7:12$ per mile) and $1$ mile at easy pace again, what time do I get home for breakfast?"
   ]
  },
  {
   "cell_type": "code",
   "execution_count": 41,
   "metadata": {},
   "outputs": [
    {
     "name": "stdout",
     "output_type": "stream",
     "text": [
      "7:30\n"
     ]
    }
   ],
   "source": [
    "easy_pace = 8*60 + 15\n",
    "tempo = 7*60 + 12\n",
    "total_secs = easy_pace*2 + tempo*3\n",
    "total_mins = total_secs / 60\n",
    "time_left_home = 6*60 + 52\n",
    "time_arrive_home = time_left_home + total_mins\n",
    "hr = Int(floor(time_arrive_home/60))\n",
    "min = trunc(Int, time_arrive_home % 60)\n",
    "println(string(hr) * \":\" * string(min))"
   ]
  }
 ],
 "metadata": {
  "kernelspec": {
   "display_name": "Julia 1.5.2",
   "language": "julia",
   "name": "julia-1.5"
  },
  "language_info": {
   "file_extension": ".jl",
   "mimetype": "application/julia",
   "name": "julia",
   "version": "1.5.2"
  }
 },
 "nbformat": 4,
 "nbformat_minor": 4
}
