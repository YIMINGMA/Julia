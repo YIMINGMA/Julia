{
 "cells": [
  {
   "cell_type": "markdown",
   "metadata": {},
   "source": [
    "# Exercises"
   ]
  },
  {
   "cell_type": "markdown",
   "metadata": {},
   "source": [
    "## Exercise 5-1"
   ]
  },
  {
   "cell_type": "markdown",
   "metadata": {},
   "source": [
    "```julia\n",
    "function printn(s, n)\n",
    "    if n ≤ 0\n",
    "        return\n",
    "    end\n",
    "    println(s)\n",
    "    printn(s, n-1)\n",
    "```\n",
    "As an exercise, draw a stack diagram for ```printn``` called with ```s = \"Hello\"``` and ```n = 2```.\n",
    "Then write a function called ```do_n``` that takes a function object and a number, ```n```, as\n",
    "arguments, and that calls the given function ```n``` times."
   ]
  },
  {
   "cell_type": "markdown",
   "metadata": {},
   "source": [
    "| Function Name | Parameter Values               |\n",
    "|---------------|--------------------------------|\n",
    "| ```Main```    | ```s = \"Hello\"```, ```n = 2``` |\n",
    "| ```printn```  | ```s = \"Hello\"```, ```n = 2``` |\n",
    "| ```println``` | ```s = \"Hello\"```              |\n",
    "| ```printn```  | ```s = \"Hello\"```, ```n = 1``` |\n",
    "| ```println``` | ```s = \"Hello\"```              |\n",
    "| ```printn```  | ```s = \"Hello\"```, ```n = 0``` |"
   ]
  },
  {
   "cell_type": "code",
   "execution_count": 3,
   "metadata": {},
   "outputs": [
    {
     "data": {
      "text/plain": [
       "do_n (generic function with 1 method)"
      ]
     },
     "execution_count": 3,
     "metadata": {},
     "output_type": "execute_result"
    }
   ],
   "source": [
    "function do_n(f, n)\n",
    "    if n > 0\n",
    "        f(n)\n",
    "        do_n(f, n-1)\n",
    "    end\n",
    "end"
   ]
  },
  {
   "cell_type": "markdown",
   "metadata": {},
   "source": [
    "## Exercise 5-2"
   ]
  },
  {
   "cell_type": "markdown",
   "metadata": {},
   "source": [
    "The function ```time``` returns the current Greenwich Mean Time in seconds since “the\n",
    "epoch,” which is an arbitrary time used as a reference point. On Unix systems, the\n",
    "epoch is 1 January 1970:\n",
    "\n",
    "```julia\n",
    "time()\n",
    "1.550846226624217e9\n",
    "```\n",
    "\n",
    "Write a script that reads the current time and converts it to a time of day in hours,\n",
    "minutes, and seconds, plus the number of days since the epoch.\n"
   ]
  },
  {
   "cell_type": "code",
   "execution_count": 8,
   "metadata": {},
   "outputs": [
    {
     "name": "stdout",
     "output_type": "stream",
     "text": [
      "18531 days, 21 hours, 54 minutes, 48.63000011444092 seconds have passed.\n"
     ]
    }
   ],
   "source": [
    "min2sec = 60\n",
    "hr2min = 60\n",
    "day2hr = 24\n",
    "day2sec = day2hr * hr2min * min2sec\n",
    "hr2sec = hr2min * min2sec\n",
    "\n",
    "days = Int(time() ÷ day2sec)\n",
    "hrs = Int((time() % day2sec) ÷ hr2sec)\n",
    "mins = Int(((time() % day2sec) % hr2sec) ÷ min2sec)\n",
    "secs = ((time() % day2sec) % hr2sec) % min2sec\n",
    "println(days, \" days, \", hrs, \" hours, \", mins, \" minutes, \", secs, \" seconds \", \"have passed.\")"
   ]
  },
  {
   "cell_type": "markdown",
   "metadata": {},
   "source": [
    "## Exercise 5-3"
   ]
  },
  {
   "cell_type": "markdown",
   "metadata": {},
   "source": [
    "Fermat’s Last Theorem says that there are no positive integers $a$, $b$, and $c$ such that:\n",
    "\n",
    "$$a^n + b^n = c^n,$$\n",
    "\n",
    "for any value of $n$ greater than $2$.\n",
    "\n",
    "1. Write a function named ```checkfermat``` that takes four parameters — ```a```, ```b```, ```c```, and ```n``` — and checks to see if Fermat’s theorem holds. If ```n``` is greater than ```2``` and ```a^n + b^n == c^n``` the program should print, ```“Holy smokes, Fermat was wrong!”``` Otherwise,\n",
    "the program should print, ```“No, that doesn’t work.”```"
   ]
  },
  {
   "cell_type": "code",
   "execution_count": 2,
   "metadata": {},
   "outputs": [
    {
     "data": {
      "text/plain": [
       "checkfermat (generic function with 1 method)"
      ]
     },
     "execution_count": 2,
     "metadata": {},
     "output_type": "execute_result"
    }
   ],
   "source": [
    "\"\"\"\n",
    "This function checks whether Fermats' Theorem holds or not for given a, b, c,and n.\n",
    "\n",
    "Input:\n",
    "    a: a positive integer\n",
    "    b: a positive integer\n",
    "    c: a positive integer\n",
    "    n: an integer that is greater than 2\n",
    "\n",
    "Output:\n",
    "    nothing\n",
    "\"\"\"\n",
    "function checkfermat(a, b, c, n)\n",
    "    if n > 2 && a^n+b^n == c^n\n",
    "        println(\"Holly smokes, Fermat was wrong!\")\n",
    "    else\n",
    "        println(\"No, that doesn't work.\")\n",
    "    end\n",
    "end"
   ]
  },
  {
   "cell_type": "markdown",
   "metadata": {},
   "source": [
    "2. Write a function that prompts the user to input values for ```a```, ```b```, ```c```, and ```n```, converts them to integers, and uses checkfermat to check whether they violate Fermat’s theorem."
   ]
  },
  {
   "cell_type": "code",
   "execution_count": 3,
   "metadata": {},
   "outputs": [
    {
     "name": "stdout",
     "output_type": "stream",
     "text": [
      "Please input a positive integer for a\n",
      "stdin> 1\n",
      "Please input a positive integer for b\n",
      "stdin> 2\n",
      "Please input a positive integer for c\n",
      "stdin> 3\n",
      "Please input an integer for n\n",
      "stdin> 4\n",
      "No, that doesn't work.\n"
     ]
    }
   ],
   "source": [
    "println(\"Please input a positive integer for a\")\n",
    "a = readline()\n",
    "a = parse(Int64, a)\n",
    "println(\"Please input a positive integer for b\")\n",
    "b = readline()\n",
    "b = parse(Int64, b)\n",
    "println(\"Please input a positive integer for c\")\n",
    "c = readline()\n",
    "c = parse(Int64, c)\n",
    "println(\"Please input an integer for n\")\n",
    "n = readline()\n",
    "n = parse(Int64, n)\n",
    "\n",
    "checkfermat(a, b, c, n)"
   ]
  },
  {
   "cell_type": "markdown",
   "metadata": {},
   "source": [
    "## Exercise 5-4"
   ]
  },
  {
   "cell_type": "markdown",
   "metadata": {},
   "source": [
    "If you are given three sticks, you may or may not be able to arrange them in a triangle. For example, if one of the sticks is $12$ inches long and the other two are $1$ inch long, you will not be able to get the short sticks to meet in the middle. For any three lengths, there is a simple test to see if it is possible to form a triangle: \n",
    "\n",
    "*If any of the three lengths is greater than the sum of the other two, then you cannot form a triangle. Otherwise, you can. (If the sum of two lengths equals the third, they form what is called a “degenerate” triangle.)*\n",
    "\n",
    "1. Write a function named istriangle that takes three integers as arguments and\n",
    "prints either ```“Yes”``` or ```“No”```, depending on whether you can or cannot form a triangle from sticks with the given lengths."
   ]
  },
  {
   "cell_type": "code",
   "execution_count": 4,
   "metadata": {},
   "outputs": [
    {
     "data": {
      "text/plain": [
       "istriangle (generic function with 1 method)"
      ]
     },
     "execution_count": 4,
     "metadata": {},
     "output_type": "execute_result"
    }
   ],
   "source": [
    "function istriangle(a, b, c)\n",
    "    if a+b >= c && a+c >= b && b+c >= a\n",
    "        println(\"Yes\")\n",
    "    else\n",
    "        println(\"No\")\n",
    "    end\n",
    "end"
   ]
  },
  {
   "cell_type": "markdown",
   "metadata": {},
   "source": [
    "2. Write a function that prompts the user to input three stick lengths, converts them\n",
    "to integers, and uses istriangle to check whether sticks with the given lengths\n",
    "can form a triangle."
   ]
  },
  {
   "cell_type": "code",
   "execution_count": 6,
   "metadata": {},
   "outputs": [
    {
     "name": "stdout",
     "output_type": "stream",
     "text": [
      "Input three integer-valued stick lengths to see if they can form a triangle.\n",
      "stdin> 2\n",
      "stdin> 2\n",
      "stdin> 2\n",
      "Yes\n"
     ]
    }
   ],
   "source": [
    "println(\"Input three integer-valued stick lengths to see if they can form a triangle.\")\n",
    "a = parse(Int64, readline())\n",
    "b = parse(Int64, readline())\n",
    "c = parse(Int64, readline())\n",
    "istriangle(a, b, c)"
   ]
  },
  {
   "cell_type": "markdown",
   "metadata": {},
   "source": [
    "## Exercise 5-5"
   ]
  },
  {
   "cell_type": "markdown",
   "metadata": {},
   "source": [
    "What is the output of the following program? Draw a stack diagram that shows the\n",
    "state of the program when it prints the result.\n",
    "\n",
    "```julia\n",
    "function recurse(n, s)\n",
    "    if n == 0\n",
    "        println(s)\n",
    "    else\n",
    "        recurse(n-1, n+s)\n",
    "    end\n",
    "end\n",
    "\n",
    "recurse(3, 0)\n",
    "```\n",
    "\n",
    "| Function Names | Parameter Values         |\n",
    "|----------------|--------------------------|\n",
    "| ```Main```     |                          |\n",
    "| ```recurse```  | ```n = 3```, ```s = 0``` |\n",
    "| ```recurse```  | ```n = 2```, ```s = 3``` |\n",
    "| ```recurse```  | ```n = 1```, ```s = 5``` |\n",
    "| ```recurse```  | ```n = 0```, ```s = 6``` |"
   ]
  },
  {
   "cell_type": "markdown",
   "metadata": {},
   "source": [
    "1. What would happen if you called this function like this: ```recurse(-1, 0)```?\n",
    "\n",
    "    This is an infinite loop and will cause a ```StackOverflowError```."
   ]
  },
  {
   "cell_type": "markdown",
   "metadata": {},
   "source": [
    "2. Write a docstring that explains everything someone would need to know in order\n",
    "to use this function (and nothing else).\n",
    "\n",
    "```julia\n",
    "\"\"\"\n",
    "This function calculates (s+n) + (s+n+(n-1)) + (s+n+(n-1)+(n-2)) + ... + (s+n+(n-1)+(n-2)+...+1), using iteration.\n",
    "\n",
    "Input:\n",
    "    n: a nonnegative integer\n",
    "    s: an integer or a floating-point number\n",
    "\n",
    "Output:\n",
    "    nothing\n",
    "\"\"\"\n",
    "function recurse(n, s)\n",
    "    if n == 0\n",
    "        println(s)\n",
    "    else\n",
    "        recurse(n-1, n+s)\n",
    "    end\n",
    "end\n",
    "```"
   ]
  },
  {
   "cell_type": "code",
   "execution_count": null,
   "metadata": {},
   "outputs": [],
   "source": []
  }
 ],
 "metadata": {
  "kernelspec": {
   "display_name": "Julia 1.5.2",
   "language": "julia",
   "name": "julia-1.5"
  },
  "language_info": {
   "file_extension": ".jl",
   "mimetype": "application/julia",
   "name": "julia",
   "version": "1.5.2"
  }
 },
 "nbformat": 4,
 "nbformat_minor": 4
}
