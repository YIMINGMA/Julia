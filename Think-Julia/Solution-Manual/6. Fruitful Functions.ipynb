{
 "cells": [
  {
   "cell_type": "markdown",
   "metadata": {},
   "source": [
    "# Exercise"
   ]
  },
  {
   "cell_type": "markdown",
   "metadata": {},
   "source": [
    "## Exercise 6-1"
   ]
  },
  {
   "cell_type": "markdown",
   "metadata": {},
   "source": [
    "Write a ```compare``` function that takes two values, ```x``` and ```y```, and returns ```1``` if ```x > y```, ```0``` if ```x == y```, and ```-1``` if ```x < y```."
   ]
  },
  {
   "cell_type": "code",
   "execution_count": 1,
   "metadata": {},
   "outputs": [
    {
     "data": {
      "text/plain": [
       "compare (generic function with 1 method)"
      ]
     },
     "execution_count": 1,
     "metadata": {},
     "output_type": "execute_result"
    }
   ],
   "source": [
    "\"\"\"\n",
    "This function compares two inputs.\n",
    "\n",
    "Input:\n",
    "    x: an integer or a floating-point value\n",
    "    y: an integer or a floating-point value\n",
    "\n",
    "Output:\n",
    "    1: if x > y\n",
    "    0: if x == y\n",
    "    -1: if x < y\n",
    "\"\"\"\n",
    "\n",
    "function compare(x, y)\n",
    "    if x > y\n",
    "        return 1\n",
    "    elseif x == y\n",
    "        return 0\n",
    "    else\n",
    "        return -1\n",
    "    end\n",
    "end"
   ]
  },
  {
   "cell_type": "markdown",
   "metadata": {},
   "source": [
    "## Exercise 6-2"
   ]
  },
  {
   "cell_type": "markdown",
   "metadata": {},
   "source": [
    "Use incremental development to write a function called ```hypotenuse``` that returns the length of the hypotenuse of a right given the lengths of the other two legs as arguments. Record each stage of the development process as you go."
   ]
  },
  {
   "cell_type": "markdown",
   "metadata": {},
   "source": [
    "1. Stage 1: start with a working program."
   ]
  },
  {
   "cell_type": "code",
   "execution_count": 1,
   "metadata": {},
   "outputs": [
    {
     "data": {
      "text/plain": [
       "hypotenuse (generic function with 1 method)"
      ]
     },
     "execution_count": 1,
     "metadata": {},
     "output_type": "execute_result"
    }
   ],
   "source": [
    "    function hypotenuse(len_leg₁, len_leg₂)\n",
    "        0.0\n",
    "    end"
   ]
  },
  {
   "cell_type": "markdown",
   "metadata": {},
   "source": [
    "Now test it."
   ]
  },
  {
   "cell_type": "code",
   "execution_count": 2,
   "metadata": {},
   "outputs": [
    {
     "data": {
      "text/plain": [
       "0.0"
      ]
     },
     "execution_count": 2,
     "metadata": {},
     "output_type": "execute_result"
    }
   ],
   "source": [
    "hypotenuse(3, 4)"
   ]
  },
  {
   "cell_type": "markdown",
   "metadata": {},
   "source": [
    "2. Stage 2: calculate hypotenuse squared via the Pythagorean theorem."
   ]
  },
  {
   "cell_type": "code",
   "execution_count": 4,
   "metadata": {},
   "outputs": [
    {
     "data": {
      "text/plain": [
       "hypotenuse (generic function with 1 method)"
      ]
     },
     "execution_count": 4,
     "metadata": {},
     "output_type": "execute_result"
    }
   ],
   "source": [
    "function hypotenuse(len_leg₁, len_leg₂)\n",
    "    len_hypo² = len_leg₁^2 + len_leg₂^2\n",
    "    @show len_hypo²\n",
    "end"
   ]
  },
  {
   "cell_type": "markdown",
   "metadata": {},
   "source": [
    "Now test it."
   ]
  },
  {
   "cell_type": "code",
   "execution_count": 5,
   "metadata": {},
   "outputs": [
    {
     "name": "stdout",
     "output_type": "stream",
     "text": [
      "len_hypo² = 25\n"
     ]
    },
    {
     "data": {
      "text/plain": [
       "25"
      ]
     },
     "execution_count": 5,
     "metadata": {},
     "output_type": "execute_result"
    }
   ],
   "source": [
    "hypotenuse(3, 4)"
   ]
  },
  {
   "cell_type": "markdown",
   "metadata": {},
   "source": [
    "3. Stage 3: calculate the length of hypotenuse by taking square root to $\\text{len_hypo}^2$."
   ]
  },
  {
   "cell_type": "code",
   "execution_count": 6,
   "metadata": {},
   "outputs": [
    {
     "data": {
      "text/plain": [
       "hypotenuse (generic function with 1 method)"
      ]
     },
     "execution_count": 6,
     "metadata": {},
     "output_type": "execute_result"
    }
   ],
   "source": [
    "function hypotenuse(len_leg₁, len_leg₂)\n",
    "    len_hypo² = len_leg₁^2 + len_leg₂^2\n",
    "    len_hypo = sqrt(len_hypo²)\n",
    "    @show len_hypo\n",
    "end"
   ]
  },
  {
   "cell_type": "markdown",
   "metadata": {},
   "source": [
    "Test it again."
   ]
  },
  {
   "cell_type": "code",
   "execution_count": 7,
   "metadata": {},
   "outputs": [
    {
     "name": "stdout",
     "output_type": "stream",
     "text": [
      "len_hypo = 5.0\n"
     ]
    },
    {
     "data": {
      "text/plain": [
       "5.0"
      ]
     },
     "execution_count": 7,
     "metadata": {},
     "output_type": "execute_result"
    }
   ],
   "source": [
    "hypotenuse(3, 4)"
   ]
  },
  {
   "cell_type": "markdown",
   "metadata": {},
   "source": [
    "So the answer is correct. Now we can remove the scaffold."
   ]
  },
  {
   "cell_type": "markdown",
   "metadata": {},
   "source": [
    "4. Stage 4: remove the scaffold."
   ]
  },
  {
   "cell_type": "code",
   "execution_count": 8,
   "metadata": {},
   "outputs": [
    {
     "data": {
      "text/plain": [
       "hypotenuse (generic function with 1 method)"
      ]
     },
     "execution_count": 8,
     "metadata": {},
     "output_type": "execute_result"
    }
   ],
   "source": [
    "function hypotenuse(len_leg₁, len_leg₂)\n",
    "    len_hypo² = len_leg₁^2 + len_leg₂^2\n",
    "    len_hypo = sqrt(len_hypo²)\n",
    "    return len_hypo\n",
    "end"
   ]
  },
  {
   "cell_type": "markdown",
   "metadata": {},
   "source": [
    "## Exercise 6-3"
   ]
  },
  {
   "cell_type": "markdown",
   "metadata": {},
   "source": [
    "Write a function ```isbetween(x, y, z)``` that returns ```true``` if $x \\le y \\le z$ or ```false``` otherwise."
   ]
  },
  {
   "cell_type": "code",
   "execution_count": 13,
   "metadata": {},
   "outputs": [
    {
     "data": {
      "text/plain": [
       "isbetween"
      ]
     },
     "execution_count": 13,
     "metadata": {},
     "output_type": "execute_result"
    }
   ],
   "source": [
    "\"\"\"\n",
    "This function tests whether x≤y≤z holds or not.\n",
    "\n",
    "Input:\n",
    "    x: an integer or a floating-point number\n",
    "    y: an integer or a floating-point number\n",
    "    z: an integer or a floating-point number\n",
    "\n",
    "Outpu:\n",
    "    true: if x≤y≤z\n",
    "    false: otherwise\n",
    "\"\"\"\n",
    "function isbetween(x, y, z)\n",
    "    return x≤y≤z\n",
    "end"
   ]
  },
  {
   "cell_type": "markdown",
   "metadata": {},
   "source": [
    "## Exercise 6-4"
   ]
  },
  {
   "cell_type": "markdown",
   "metadata": {},
   "source": [
    "Draw a stack diagram for the following program. What does the program print?\n",
    "\n",
    "```julia\n",
    "function b(z)\n",
    "    prod = a(z, z)\n",
    "    println(z, \" \", prod)\n",
    "    prod\n",
    "end\n",
    "\n",
    "function a(x, y)\n",
    "    x = x + 1\n",
    "    x * y\n",
    "end\n",
    "\n",
    "function c(x, y, z)\n",
    "    total = x + y + z\n",
    "    square = b(total)^2\n",
    "    square\n",
    "end\n",
    "\n",
    "x = 1\n",
    "y = x + 1\n",
    "println(c(x, y+3, x+y))\n",
    "```"
   ]
  },
  {
   "cell_type": "markdown",
   "metadata": {},
   "source": [
    "| Function Name | Parameter Value | Parameter Value | Paramter Value | Parameter Value | Parameter Value     |\n",
    "|---------------|-----------------|-----------------|----------------|-----------------|---------------------|\n",
    "| ```Main```    | ```x = 1```     | ```y = 2```     |                |                 |                     |\n",
    "| ```c```       | ```x = 1```     | ```y = 5```     | ```z = 3```    | ```total = 9``` | ```square = 8100``` |\n",
    "| ```b```       | ```z = 9```     | ```prod = 90``` |                |                 |                     |\n",
    "| ```a```       | ```x = 9```     | ```y = 9```     | ```x = 10```   |                 |                     |"
   ]
  },
  {
   "cell_type": "markdown",
   "metadata": {},
   "source": [
    "## Exercise 6-5"
   ]
  },
  {
   "cell_type": "markdown",
   "metadata": {},
   "source": [
    "The **Ackermann function**, $A(m, n)$ , is defined as:\n",
    "\n",
    "$$A(m, n) = \\begin{cases} n+1 \\quad & \\text{ if } m=0 \\\\ A(m-1, 1) \\quad & \\text{ if } m>0 \\text{ and } n=0 \\\\ A(m-1, A(m, n-1)) \\quad & \\text{ if } m>0 \\text{ and } n>0 \\end{cases}$$\n",
    "\n",
    "Write a function named ```ack``` that evaluates the Ackermann function. Use your function to evaluate ```ack(3, 4)```, which should be ```125```. What happens for larger values of ```m```\n",
    "and ```n```?\n"
   ]
  },
  {
   "cell_type": "code",
   "execution_count": 3,
   "metadata": {},
   "outputs": [
    {
     "data": {
      "text/plain": [
       "ark"
      ]
     },
     "execution_count": 3,
     "metadata": {},
     "output_type": "execute_result"
    }
   ],
   "source": [
    "\"\"\"\n",
    "This function is the Ackermann function.\n",
    "\n",
    "Input:\n",
    "    m: a nonnegative integer\n",
    "    n: a nonnegative integer\n",
    "\n",
    "Output:\n",
    "    result: the result of the Ackermann function with parameters m and n.\n",
    "\"\"\"\n",
    "function ark(m, n)\n",
    "    if m == 0\n",
    "        return (n+1)\n",
    "    elseif m > 0 && n == 0\n",
    "        return ark(m-1, 1)\n",
    "    elseif m > 0 && n > 0\n",
    "        return ark(m-1, ark(m, n-1))\n",
    "    else\n",
    "        error(\"Bad inputs!\")\n",
    "    end\n",
    "end"
   ]
  },
  {
   "cell_type": "code",
   "execution_count": 5,
   "metadata": {},
   "outputs": [
    {
     "data": {
      "text/plain": [
       "125"
      ]
     },
     "execution_count": 5,
     "metadata": {},
     "output_type": "execute_result"
    }
   ],
   "source": [
    "ark(3, 4)"
   ]
  },
  {
   "cell_type": "markdown",
   "metadata": {},
   "source": [
    "Now, let's try large values of ```m``` and ```n```, say ```m = 100```, ```n = 100```."
   ]
  },
  {
   "cell_type": "code",
   "execution_count": 6,
   "metadata": {},
   "outputs": [
    {
     "ename": "LoadError",
     "evalue": "StackOverflowError:",
     "output_type": "error",
     "traceback": [
      "StackOverflowError:",
      "",
      "Stacktrace:",
      " [1] ark(::Int64, ::Int64) at .\\In[3]:15",
      " [2] ark(::Int64, ::Int64) at .\\In[3]:17 (repeats 51912 times)",
      " [3] ark(::Int64, ::Int64) at .\\In[3]:15",
      " ... (the last 2 lines are repeated 95 more times)",
      " [194] ark(::Int64, ::Int64) at .\\In[3]:17 (repeats 100 times)",
      " [195] top-level scope at In[6]:1"
     ]
    }
   ],
   "source": [
    "ark(100, 100)"
   ]
  },
  {
   "cell_type": "markdown",
   "metadata": {},
   "source": [
    "There is a ```StackOverflowError```, possibly because there are two many recursions."
   ]
  },
  {
   "cell_type": "markdown",
   "metadata": {},
   "source": [
    "## Exercise 6-6"
   ]
  },
  {
   "cell_type": "markdown",
   "metadata": {},
   "source": [
    "**A palindrome is a word that is spelled the same backward and forward, like “noon” or “redivider.”** *Recursively, a word is a palindrome if the first and last letters are the same\n",
    "and the middle is a palindrome.*\n",
    "\n",
    "The following are functions that take a string argument and return the first, last, and middle letters:\n",
    "\n",
    "```julia\n",
    "function first(word)\n",
    "    first = firstindex(word)\n",
    "    word[first]\n",
    "end\n",
    "\n",
    "function last(word)\n",
    "    last = lastindex(word)\n",
    "    word[last]\n",
    "end\n",
    "\n",
    "function middle(word)\n",
    "    first = firstindex(word)\n",
    "    last = lastindex(word)\n",
    "    word[nextind(word, first) : prevind(word, last)]\n",
    "end\n",
    "```\n",
    "\n",
    "We’ll see how they work in Chapter 8.\n",
    "1. Test these functions out. What happens if you call middle with a string with two letters? One letter? What about the empty string, which is written ```\"\"``` and contains no letters?"
   ]
  },
  {
   "cell_type": "code",
   "execution_count": 7,
   "metadata": {},
   "outputs": [
    {
     "data": {
      "text/plain": [
       "middle (generic function with 1 method)"
      ]
     },
     "execution_count": 7,
     "metadata": {},
     "output_type": "execute_result"
    }
   ],
   "source": [
    "function first(word)\n",
    "    first = firstindex(word)\n",
    "    word[first]\n",
    "end\n",
    "\n",
    "function last(word)\n",
    "    last = lastindex(word)\n",
    "    word[last]\n",
    "end\n",
    "\n",
    "function middle(word)\n",
    "    first = firstindex(word)\n",
    "    last = lastindex(word)\n",
    "    word[nextind(word, first) : prevind(word, last)]\n",
    "end"
   ]
  },
  {
   "cell_type": "code",
   "execution_count": 9,
   "metadata": {},
   "outputs": [
    {
     "name": "stdout",
     "output_type": "stream",
     "text": [
      "H\n",
      "ell\n",
      "o\n"
     ]
    }
   ],
   "source": [
    "println(first(\"Hello\"))\n",
    "println(middle(\"Hello\"))\n",
    "println(last(\"Hello\"))"
   ]
  },
  {
   "cell_type": "code",
   "execution_count": 12,
   "metadata": {},
   "outputs": [
    {
     "name": "stdout",
     "output_type": "stream",
     "text": [
      "t\n",
      "es\n",
      "t\n"
     ]
    }
   ],
   "source": [
    "println(first(\"test\"))\n",
    "println(middle(\"test\"))\n",
    "println(last(\"test\"))"
   ]
  },
  {
   "cell_type": "code",
   "execution_count": 10,
   "metadata": {},
   "outputs": [
    {
     "name": "stdout",
     "output_type": "stream",
     "text": [
      "H\n",
      "\n",
      "i\n"
     ]
    }
   ],
   "source": [
    "println(first(\"Hi\"))\n",
    "println(middle(\"Hi\"))\n",
    "println(last(\"Hi\"))"
   ]
  },
  {
   "cell_type": "code",
   "execution_count": 11,
   "metadata": {},
   "outputs": [
    {
     "name": "stdout",
     "output_type": "stream",
     "text": [
      "I\n",
      "\n",
      "I\n"
     ]
    }
   ],
   "source": [
    "println(first(\"I\"))\n",
    "println(middle(\"I\"))\n",
    "println(last(\"I\"))"
   ]
  },
  {
   "cell_type": "markdown",
   "metadata": {},
   "source": [
    "Thus, if we pass a word of $1$ or $2$ letter(s) to ```middle()```, we will get an empty string. But we can still obtain correct results if it is passed to ```first()``` and ```last```."
   ]
  },
  {
   "cell_type": "code",
   "execution_count": 15,
   "metadata": {},
   "outputs": [
    {
     "ename": "LoadError",
     "evalue": "BoundsError: attempt to access String\n  at index [1]",
     "output_type": "error",
     "traceback": [
      "BoundsError: attempt to access String\n  at index [1]",
      "",
      "Stacktrace:",
      " [1] checkbounds at .\\strings\\basic.jl:214 [inlined]",
      " [2] codeunit at .\\strings\\string.jl:89 [inlined]",
      " [3] getindex at .\\strings\\string.jl:210 [inlined]",
      " [4] first(::String) at .\\In[7]:3",
      " [5] top-level scope at In[15]:1",
      " [6] include_string(::Function, ::Module, ::String, ::String) at .\\loading.jl:1091"
     ]
    }
   ],
   "source": [
    "println(first(\"\"))"
   ]
  },
  {
   "cell_type": "code",
   "execution_count": 14,
   "metadata": {},
   "outputs": [
    {
     "ename": "LoadError",
     "evalue": "BoundsError: attempt to access String\n  at index [1]",
     "output_type": "error",
     "traceback": [
      "BoundsError: attempt to access String\n  at index [1]",
      "",
      "Stacktrace:",
      " [1] _nextind_str at .\\strings\\string.jl:143 [inlined]",
      " [2] nextind at .\\strings\\string.jl:137 [inlined]",
      " [3] middle(::String) at .\\In[7]:14",
      " [4] top-level scope at In[14]:1",
      " [5] include_string(::Function, ::Module, ::String, ::String) at .\\loading.jl:1091"
     ]
    }
   ],
   "source": [
    "println(middle(\"\"))"
   ]
  },
  {
   "cell_type": "code",
   "execution_count": 16,
   "metadata": {},
   "outputs": [
    {
     "ename": "LoadError",
     "evalue": "BoundsError: attempt to access String\n  at index [0]",
     "output_type": "error",
     "traceback": [
      "BoundsError: attempt to access String\n  at index [0]",
      "",
      "Stacktrace:",
      " [1] checkbounds at .\\strings\\basic.jl:214 [inlined]",
      " [2] codeunit at .\\strings\\string.jl:89 [inlined]",
      " [3] getindex at .\\strings\\string.jl:210 [inlined]",
      " [4] last(::String) at .\\In[7]:8",
      " [5] top-level scope at In[16]:1",
      " [6] include_string(::Function, ::Module, ::String, ::String) at .\\loading.jl:1091"
     ]
    }
   ],
   "source": [
    "println(last(\"\"))"
   ]
  },
  {
   "cell_type": "markdown",
   "metadata": {},
   "source": [
    "However, passing an empty string ```\"\"``` to any of these functions results in a ```BoundsError```."
   ]
  },
  {
   "cell_type": "markdown",
   "metadata": {},
   "source": [
    "2. Write a function called ```ispalindrome``` that takes a string argument and returns ```true``` if it is a palindrome and ```false``` otherwise. Remember that you can use the built-in function ```length``` to check the length of a string."
   ]
  },
  {
   "cell_type": "code",
   "execution_count": 17,
   "metadata": {},
   "outputs": [
    {
     "data": {
      "text/plain": [
       "palindrome"
      ]
     },
     "execution_count": 17,
     "metadata": {},
     "output_type": "execute_result"
    }
   ],
   "source": [
    "\"\"\"\n",
    "This function checks whether a string is a palindrome or not.\n",
    "\n",
    "Input:\n",
    "    str: a string\n",
    "Output:\n",
    "    true: if str is a palindrome\n",
    "    false: otherwise\n",
    "\"\"\"\n",
    "function palindrome(str)\n",
    "    if length(str) == 0 || length(str) == 1\n",
    "        return true\n",
    "    elseif first(str) == last(str)\n",
    "        return palindrome(middle(str))\n",
    "    else\n",
    "        return false\n",
    "    end\n",
    "end"
   ]
  },
  {
   "cell_type": "code",
   "execution_count": 18,
   "metadata": {},
   "outputs": [
    {
     "name": "stdout",
     "output_type": "stream",
     "text": [
      "true\n",
      "false\n"
     ]
    }
   ],
   "source": [
    "println(palindrome(\"redivider\"))\n",
    "println(palindrome(\"Hello\"))"
   ]
  },
  {
   "cell_type": "markdown",
   "metadata": {},
   "source": [
    "## Exercise 6-7"
   ]
  },
  {
   "cell_type": "markdown",
   "metadata": {},
   "source": [
    "A number, $a$, is a power of $b$ if it is divisible by $b$ and a $\\frac{a}{b}$ is a power of $b$. Write a function called ```ispower``` that takes parameters ```a``` and ```b``` and returns ```true``` if ```a``` is a power of ```b```."
   ]
  },
  {
   "cell_type": "code",
   "execution_count": 20,
   "metadata": {},
   "outputs": [
    {
     "data": {
      "text/plain": [
       "ispower"
      ]
     },
     "execution_count": 20,
     "metadata": {},
     "output_type": "execute_result"
    }
   ],
   "source": [
    "\"\"\"\n",
    "This function checks if a is a power of b.\n",
    "\n",
    "Input:\n",
    "    a: an integer or a floating-point number\n",
    "    b: an integer or a floating-point number\n",
    "\n",
    "Output:\n",
    "    true: if a is a power of b\n",
    "    false: otherwise\n",
    "\"\"\"\n",
    "function ispower(a, b)\n",
    "    if a == 1\n",
    "        return true\n",
    "    elseif a % b == 0\n",
    "        return ispower(a/b, b)\n",
    "    else\n",
    "        return false\n",
    "    end\n",
    "end"
   ]
  },
  {
   "cell_type": "code",
   "execution_count": 22,
   "metadata": {},
   "outputs": [
    {
     "name": "stdout",
     "output_type": "stream",
     "text": [
      "true\n",
      "true\n",
      "false\n"
     ]
    }
   ],
   "source": [
    "println(ispower(8, 2))\n",
    "println(ispower(9, 3))\n",
    "println(ispower(6, 2))"
   ]
  },
  {
   "cell_type": "markdown",
   "metadata": {},
   "source": [
    "## Exercise 6-8"
   ]
  },
  {
   "cell_type": "markdown",
   "metadata": {},
   "source": [
    "**The greatest common divisor (GCD) of $a$ and $b$ is the largest number that divides both of them with no remainder.** \n",
    "\n",
    "*One way to find the GCD of two numbers is based on the observation that if $r$ is the remainder when $a$ is divided by $b$ then ```gcd(a, b) = gcd(b, r)```. As a base case, we can use ```gcd(a, 0) = a```.*\n",
    "\n",
    "Write a function called ```gcd``` that takes parameters ```a``` and ```b``` and returns their greatest common divisor.\n",
    "\n",
    "Credit: This exercise is based on an example from Hal Abelson and Gerald Jay Suss‐\n",
    "man’s Structure and Interpretation of Computer Programs (MIT Press)."
   ]
  },
  {
   "cell_type": "code",
   "execution_count": 23,
   "metadata": {},
   "outputs": [
    {
     "data": {
      "text/plain": [
       "gcd"
      ]
     },
     "execution_count": 23,
     "metadata": {},
     "output_type": "execute_result"
    }
   ],
   "source": [
    "\"\"\"\n",
    "This function finds the greatest common divisor (GCD) of a and b.\n",
    "\n",
    "Input:\n",
    "    a: an integer\n",
    "    b: an integer\n",
    "\n",
    "Output:\n",
    "    GCD: the greatest common divisor of a and b\n",
    "\"\"\"\n",
    "function gcd(a, b)\n",
    "    if b == 0\n",
    "        return a\n",
    "    elseif a % b == 0\n",
    "        return b\n",
    "    else\n",
    "        r = a % b\n",
    "        return gcd(b, r)\n",
    "    end\n",
    "end"
   ]
  },
  {
   "cell_type": "code",
   "execution_count": 25,
   "metadata": {},
   "outputs": [
    {
     "name": "stdout",
     "output_type": "stream",
     "text": [
      "8\n",
      "8\n",
      "1\n",
      "1\n",
      "2\n",
      "2\n"
     ]
    }
   ],
   "source": [
    "println(gcd(256, 216))\n",
    "println(gcd(216, 256))\n",
    "println(gcd(8, 1))\n",
    "println(gcd(1, 8))\n",
    "println(gcd(2, 0))\n",
    "println(gcd(0, 2))"
   ]
  },
  {
   "cell_type": "code",
   "execution_count": null,
   "metadata": {},
   "outputs": [],
   "source": []
  }
 ],
 "metadata": {
  "kernelspec": {
   "display_name": "Julia 1.5.1",
   "language": "julia",
   "name": "julia-1.5"
  },
  "language_info": {
   "file_extension": ".jl",
   "mimetype": "application/julia",
   "name": "julia",
   "version": "1.5.2"
  }
 },
 "nbformat": 4,
 "nbformat_minor": 4
}
