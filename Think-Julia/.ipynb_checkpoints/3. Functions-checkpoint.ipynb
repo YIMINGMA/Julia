{
 "cells": [
  {
   "cell_type": "markdown",
   "metadata": {},
   "source": [
    "# Exercises"
   ]
  },
  {
   "cell_type": "markdown",
   "metadata": {},
   "source": [
    "## Exercise 3-1"
   ]
  },
  {
   "cell_type": "markdown",
   "metadata": {},
   "source": [
    "```julia\n",
    "function printlyrics()\n",
    "    println(\"I'm a lumberjack, and I'm OK.\")\n",
    "    println(\"I sleep all night and I work all day.\")\n",
    "end\n",
    "\n",
    "function repeatlyrics()\n",
    "    printlyrics()\n",
    "    printlyrics()\n",
    "end\n",
    "\n",
    "repeatlyrics()\n",
    "```\n",
    "\n",
    "\n",
    "Move the last line of this program to the top, so the function call appears before the definitions. Run the program and see what error message you get."
   ]
  },
  {
   "cell_type": "code",
   "execution_count": 22,
   "metadata": {},
   "outputs": [
    {
     "ename": "LoadError",
     "evalue": "UndefVarError: repeatlyrics1 not defined",
     "output_type": "error",
     "traceback": [
      "UndefVarError: repeatlyrics1 not defined",
      "",
      "Stacktrace:",
      " [1] top-level scope at In[22]:1",
      " [2] include_string(::Function, ::Module, ::String, ::String) at .\\loading.jl:1091"
     ]
    }
   ],
   "source": [
    "repeatlyrics1()\n",
    "\n",
    "function printlyrics1()\n",
    "    println(\"I'm a lumberjack, and I'm okay.\")\n",
    "    println(\"I sleep all night and I work all day.\")\n",
    "end\n",
    "\n",
    "function repeatlyrics1()\n",
    "    printlyrics1()\n",
    "    printlyrics1()\n",
    "end"
   ]
  },
  {
   "cell_type": "markdown",
   "metadata": {},
   "source": [
    "Now move the function call back to the bottom and move the definition of printlyrics after the definition of ```repeatlyrics```. What happens when you run this program?"
   ]
  },
  {
   "cell_type": "code",
   "execution_count": 23,
   "metadata": {},
   "outputs": [
    {
     "name": "stdout",
     "output_type": "stream",
     "text": [
      "I'm a lumberjack, and I'm okay.\n",
      "I sleep all night and I work all day.\n",
      "I'm a lumberjack, and I'm okay.\n",
      "I sleep all night and I work all day.\n"
     ]
    }
   ],
   "source": [
    "function repeatlyrics2()\n",
    "    printlyrics2()\n",
    "    printlyrics2()\n",
    "end\n",
    "\n",
    "function printlyrics2()\n",
    "    println(\"I'm a lumberjack, and I'm okay.\")\n",
    "    println(\"I sleep all night and I work all day.\")\n",
    "end\n",
    "\n",
    "repeatlyrics2()"
   ]
  },
  {
   "cell_type": "markdown",
   "metadata": {},
   "source": [
    "TIP | These exercises should be done using only the statements and other features we have learned so far."
   ]
  },
  {
   "cell_type": "markdown",
   "metadata": {},
   "source": [
    "## Exercise 3-2"
   ]
  },
  {
   "cell_type": "markdown",
   "metadata": {},
   "source": [
    "Write a function named ```rightjustify``` that takes a string named ```s``` as a parameter and prints the string with enough leading spaces so that the last letter of the string is in column ```70``` of the display.\n",
    "\n",
    "```julia\n",
    "rightjustify(\"monty\")\n",
    "                                                                 monty\n",
    "```\n",
    "\n",
    "TIP | Use string concatenation and repetition. Also, Julia provides a built-in function called ```length``` that returns the length of a string, so the value of ```length(\"monty\")``` is 5."
   ]
  },
  {
   "cell_type": "code",
   "execution_count": 35,
   "metadata": {},
   "outputs": [
    {
     "name": "stdout",
     "output_type": "stream",
     "text": [
      "                                                                 monty"
     ]
    }
   ],
   "source": [
    "function rightjustify(s)\n",
    "    whitespaces = 70 - length(s)\n",
    "    print(\" \"^whitespaces * s)\n",
    "end\n",
    "\n",
    "rightjustify(\"monty\")"
   ]
  },
  {
   "cell_type": "markdown",
   "metadata": {},
   "source": [
    "## Exercise 3-3"
   ]
  },
  {
   "cell_type": "markdown",
   "metadata": {},
   "source": [
    "A function object is a value you can assign to a variable or pass as an argument. For example, ```dotwice``` is a function that takes a function object as an argument and calls it twice:\n",
    "\n",
    "```julia\n",
    "function dotwice(f)\n",
    "    f()\n",
    "    f()\n",
    "end\n",
    "```\n",
    "Here’s an example that uses dotwice to call a function named printspam twice.\n",
    "\n",
    "```julia\n",
    "function printspam()\n",
    "    println(\"spam\")\n",
    "end\n",
    "\n",
    "dotwice(printspam)\n",
    "```\n",
    "\n",
    "1. Type this example into a script and test it."
   ]
  },
  {
   "cell_type": "code",
   "execution_count": 1,
   "metadata": {},
   "outputs": [
    {
     "name": "stdout",
     "output_type": "stream",
     "text": [
      "spam\n",
      "spam\n"
     ]
    }
   ],
   "source": [
    "function dotwice(f)\n",
    "    f()\n",
    "    f()\n",
    "end\n",
    "\n",
    "function printspam()\n",
    "    println(\"spam\")\n",
    "end\n",
    "\n",
    "dotwice(printspam)"
   ]
  },
  {
   "cell_type": "markdown",
   "metadata": {},
   "source": [
    "2. Modify ```dotwice``` so that it takes two arguments, a function object and a value, and calls the function twice, passing the value as an argument."
   ]
  },
  {
   "cell_type": "code",
   "execution_count": 3,
   "metadata": {},
   "outputs": [
    {
     "data": {
      "text/plain": [
       "dotwice (generic function with 2 methods)"
      ]
     },
     "execution_count": 3,
     "metadata": {},
     "output_type": "execute_result"
    }
   ],
   "source": [
    "function dotwice(f, val)\n",
    "    f(val)\n",
    "    f(val)\n",
    "end"
   ]
  },
  {
   "cell_type": "markdown",
   "metadata": {},
   "source": [
    "3. Copy the definition of ```printtwice``` from earlier in this chapter to your script."
   ]
  },
  {
   "cell_type": "code",
   "execution_count": 2,
   "metadata": {},
   "outputs": [
    {
     "data": {
      "text/plain": [
       "printtwice (generic function with 1 method)"
      ]
     },
     "execution_count": 2,
     "metadata": {},
     "output_type": "execute_result"
    }
   ],
   "source": [
    "function printtwice(bruce)\n",
    "    println(bruce)\n",
    "    println(bruce)\n",
    "end"
   ]
  },
  {
   "cell_type": "markdown",
   "metadata": {},
   "source": [
    "4. Use the modified version of ```dotwice``` to call ```printtwice``` twice, passing ```\"spam\"``` as an argument."
   ]
  },
  {
   "cell_type": "code",
   "execution_count": 4,
   "metadata": {},
   "outputs": [
    {
     "name": "stdout",
     "output_type": "stream",
     "text": [
      "spam\n",
      "spam\n",
      "spam\n",
      "spam\n"
     ]
    }
   ],
   "source": [
    "dotwice(printtwice, \"spam\")"
   ]
  },
  {
   "cell_type": "markdown",
   "metadata": {},
   "source": [
    "5. Define a new function called ```dofour``` that takes a function object and a value and calls the function four times, passing the value as a parameter. There should be only two statements in the body of this function, not four."
   ]
  },
  {
   "cell_type": "code",
   "execution_count": 5,
   "metadata": {},
   "outputs": [
    {
     "name": "stdout",
     "output_type": "stream",
     "text": [
      "spam\n",
      "spam\n",
      "spam\n",
      "spam\n",
      "spam\n",
      "spam\n",
      "spam\n",
      "spam\n"
     ]
    }
   ],
   "source": [
    "function dofour(f, val)\n",
    "    dotwice(f, val)\n",
    "    dotwice(f, val)\n",
    "end\n",
    "\n",
    "dofour(printtwice, \"spam\")"
   ]
  },
  {
   "cell_type": "markdown",
   "metadata": {},
   "source": [
    "## Exercise 3-4\n",
    "\n",
    "Credit: This exercise is based on an exercise in Oualline, Practical C Programming, Third Edition, O’Reilly Media, 1997.\n",
    "\n",
    "TIP | To print more than one value on a line, you can print a comma-separated sequence of values:\n",
    "\n",
    "```julia\n",
    "println(\"+\", \"-\")\n",
    "```\n",
    "\n",
    "TIP The function ```print``` does not advance to the next line:\n",
    "\n",
    "```julia\n",
    "print(\"+ \")\n",
    "println(\"-\")\n",
    "```\n",
    "\n",
    "The output of these statements is ```\"+ -\"``` on the same line. The output from the next print statement would begin on the next line.\n",
    "\n",
    "1. Write a function printgrid that draws a grid like the following:\n",
    "\n",
    "```julia\n",
    "printgrid()\n",
    "+ - - - - + - - - - +\n",
    "|         |         |\n",
    "|         |         |\n",
    "|         |         |\n",
    "|         |         |\n",
    "+ - - - - + - - - - +\n",
    "|         |         |\n",
    "|         |         |\n",
    "|         |         |\n",
    "|         |         |\n",
    "+ - - - - + - - - - +\n",
    "```"
   ]
  },
  {
   "cell_type": "code",
   "execution_count": 40,
   "metadata": {},
   "outputs": [
    {
     "name": "stdout",
     "output_type": "stream",
     "text": [
      "+ - - - - + - - - - + \n",
      "|         |         | \n",
      "|         |         | \n",
      "|         |         | \n",
      "|         |         | \n",
      "+ - - - - + - - - - + \n",
      "|         |         | \n",
      "|         |         | \n",
      "|         |         | \n",
      "|         |         | \n",
      "+ - - - - + - - - - + \n"
     ]
    }
   ],
   "source": [
    "function rowbuilder(a, b)\n",
    "   println(a*\" \", (b*\" \")^4, a*\" \", (b*\" \")^4, a*\" \") \n",
    "end\n",
    "\n",
    "function printgrid()\n",
    "    rowbuilder(\"+\", \"-\")\n",
    "    rowbuilder(\"|\", \" \")\n",
    "    rowbuilder(\"|\", \" \")\n",
    "    rowbuilder(\"|\", \" \")\n",
    "    rowbuilder(\"|\", \" \")\n",
    "    rowbuilder(\"+\", \"-\")\n",
    "    rowbuilder(\"|\", \" \")\n",
    "    rowbuilder(\"|\", \" \")\n",
    "    rowbuilder(\"|\", \" \")\n",
    "    rowbuilder(\"|\", \" \")\n",
    "    rowbuilder(\"+\", \"-\")\n",
    "end\n",
    "\n",
    "printgrid()"
   ]
  },
  {
   "cell_type": "markdown",
   "metadata": {},
   "source": [
    "2. Write a function that draws a similar grid with four rows and four columns."
   ]
  },
  {
   "cell_type": "code",
   "execution_count": 6,
   "metadata": {},
   "outputs": [
    {
     "name": "stdout",
     "output_type": "stream",
     "text": [
      "+ - - - - + - - - - + - - - - + \n",
      "|         |         |         | \n",
      "|         |         |         | \n",
      "|         |         |         | \n",
      "|         |         |         | \n",
      "+ - - - - + - - - - + - - - - + \n",
      "|         |         |         | \n",
      "|         |         |         | \n",
      "|         |         |         | \n",
      "|         |         |         | \n",
      "+ - - - - + - - - - + - - - - + \n",
      "|         |         |         | \n",
      "|         |         |         | \n",
      "|         |         |         | \n",
      "|         |         |         | \n",
      "+ - - - - + - - - - + - - - - + \n"
     ]
    }
   ],
   "source": [
    "function rowbuilder1(a, b)\n",
    "    println(a*\" \", (b*\" \")^4, a*\" \", (b*\" \")^4, a*\" \", (b*\" \")^4, a*\" \") \n",
    "end\n",
    "\n",
    "function printgrid1()\n",
    "    rowbuilder1(\"+\", \"-\")\n",
    "    rowbuilder1(\"|\", \" \")\n",
    "    rowbuilder1(\"|\", \" \")\n",
    "    rowbuilder1(\"|\", \" \")\n",
    "    rowbuilder1(\"|\", \" \")\n",
    "    rowbuilder1(\"+\", \"-\")\n",
    "    rowbuilder1(\"|\", \" \")\n",
    "    rowbuilder1(\"|\", \" \")\n",
    "    rowbuilder1(\"|\", \" \")\n",
    "    rowbuilder1(\"|\", \" \")\n",
    "    rowbuilder1(\"+\", \"-\")\n",
    "    rowbuilder1(\"|\", \" \")\n",
    "    rowbuilder1(\"|\", \" \")\n",
    "    rowbuilder1(\"|\", \" \")\n",
    "    rowbuilder1(\"|\", \" \")\n",
    "    rowbuilder1(\"+\", \"-\")\n",
    "end\n",
    "\n",
    "printgrid1()"
   ]
  },
  {
   "cell_type": "code",
   "execution_count": null,
   "metadata": {},
   "outputs": [],
   "source": []
  }
 ],
 "metadata": {
  "kernelspec": {
   "display_name": "Julia 1.5.2",
   "language": "julia",
   "name": "julia-1.5"
  },
  "language_info": {
   "file_extension": ".jl",
   "mimetype": "application/julia",
   "name": "julia",
   "version": "1.5.2"
  }
 },
 "nbformat": 4,
 "nbformat_minor": 4
}
